{
 "cells": [
  {
   "cell_type": "code",
   "metadata": {
    "cell_id": "3442850d-32a5-4582-88f3-90791a150e1f",
    "deepnote_cell_type": "code"
   },
   "source": "import pandas as pd",
   "outputs": [],
   "execution_count": 5
  },
  {
   "cell_type": "code",
   "metadata": {
    "cell_id": "00001-cb9ec708-d6c8-4dac-95f4-d04f4d8094e3",
    "deepnote_cell_type": "code"
   },
   "source": "df = pd.read_csv('users_csv.csv')",
   "outputs": [],
   "execution_count": 6
  },
  {
   "cell_type": "code",
   "metadata": {
    "cell_id": "00002-ea08775b-ddaf-419e-8a03-77bd473bc60f",
    "deepnote_output_heights": [
     382.1875
    ],
    "deepnote_cell_type": "code"
   },
   "source": "df",
   "outputs": [
    {
     "data": {
      "text/html": "<div>\n<style scoped>\n    .dataframe tbody tr th:only-of-type {\n        vertical-align: middle;\n    }\n\n    .dataframe tbody tr th {\n        vertical-align: top;\n    }\n\n    .dataframe thead th {\n        text-align: right;\n    }\n</style>\n<table border=\"1\" class=\"dataframe\">\n  <thead>\n    <tr style=\"text-align: right;\">\n      <th></th>\n      <th>id</th>\n      <th>first_name</th>\n      <th>last_name</th>\n      <th>email</th>\n      <th>gender</th>\n      <th>city</th>\n      <th>country</th>\n    </tr>\n  </thead>\n  <tbody>\n    <tr>\n      <td>0</td>\n      <td>1</td>\n      <td>Hamel</td>\n      <td>De Fries</td>\n      <td>hdefries0@umich.edu</td>\n      <td>Male</td>\n      <td>Kwangmyŏng</td>\n      <td>South Korea</td>\n    </tr>\n    <tr>\n      <td>1</td>\n      <td>2</td>\n      <td>Alex</td>\n      <td>Jenteau</td>\n      <td>ajenteau1@purevolume.com</td>\n      <td>Male</td>\n      <td>Longxing</td>\n      <td>China</td>\n    </tr>\n    <tr>\n      <td>2</td>\n      <td>3</td>\n      <td>Carr</td>\n      <td>Dengel</td>\n      <td>cdengel2@mayoclinic.com</td>\n      <td>Male</td>\n      <td>Topolná</td>\n      <td>Czech Republic</td>\n    </tr>\n    <tr>\n      <td>3</td>\n      <td>4</td>\n      <td>Glynnis</td>\n      <td>Larret</td>\n      <td>glarret3@newsvine.com</td>\n      <td>Female</td>\n      <td>Gammad</td>\n      <td>Philippines</td>\n    </tr>\n    <tr>\n      <td>4</td>\n      <td>5</td>\n      <td>Nesta</td>\n      <td>Kernermann</td>\n      <td>nkernermann4@businessinsider.com</td>\n      <td>Female</td>\n      <td>Wanganui</td>\n      <td>New Zealand</td>\n    </tr>\n    <tr>\n      <td>...</td>\n      <td>...</td>\n      <td>...</td>\n      <td>...</td>\n      <td>...</td>\n      <td>...</td>\n      <td>...</td>\n      <td>...</td>\n    </tr>\n    <tr>\n      <td>995</td>\n      <td>996</td>\n      <td>Kamilah</td>\n      <td>Dansie</td>\n      <td>kdansiern@admin.ch</td>\n      <td>Female</td>\n      <td>Baranowo</td>\n      <td>Poland</td>\n    </tr>\n    <tr>\n      <td>996</td>\n      <td>997</td>\n      <td>Wandie</td>\n      <td>Thornton-Dewhirst</td>\n      <td>wthorntondewhirstro@pagesperso-orange.fr</td>\n      <td>Female</td>\n      <td>Paris 03</td>\n      <td>France</td>\n    </tr>\n    <tr>\n      <td>997</td>\n      <td>998</td>\n      <td>Merrielle</td>\n      <td>Glascott</td>\n      <td>mglascottrp@census.gov</td>\n      <td>Female</td>\n      <td>Berlín</td>\n      <td>Honduras</td>\n    </tr>\n    <tr>\n      <td>998</td>\n      <td>999</td>\n      <td>Rudolfo</td>\n      <td>Ferrieri</td>\n      <td>rferrierirq@meetup.com</td>\n      <td>Male</td>\n      <td>Hamburg</td>\n      <td>Germany</td>\n    </tr>\n    <tr>\n      <td>999</td>\n      <td>1000</td>\n      <td>Aidan</td>\n      <td>Conyard</td>\n      <td>aconyardrr@umich.edu</td>\n      <td>Female</td>\n      <td>Aban</td>\n      <td>Russia</td>\n    </tr>\n  </tbody>\n</table>\n<p>1000 rows × 7 columns</p>\n</div>",
      "text/plain": "       id first_name          last_name  \\\n0       1      Hamel           De Fries   \n1       2       Alex            Jenteau   \n2       3       Carr             Dengel   \n3       4    Glynnis             Larret   \n4       5      Nesta         Kernermann   \n..    ...        ...                ...   \n995   996    Kamilah             Dansie   \n996   997     Wandie  Thornton-Dewhirst   \n997   998  Merrielle           Glascott   \n998   999    Rudolfo           Ferrieri   \n999  1000      Aidan            Conyard   \n\n                                        email  gender        city  \\\n0                         hdefries0@umich.edu    Male  Kwangmyŏng   \n1                    ajenteau1@purevolume.com    Male    Longxing   \n2                     cdengel2@mayoclinic.com    Male     Topolná   \n3                       glarret3@newsvine.com  Female      Gammad   \n4            nkernermann4@businessinsider.com  Female    Wanganui   \n..                                        ...     ...         ...   \n995                        kdansiern@admin.ch  Female    Baranowo   \n996  wthorntondewhirstro@pagesperso-orange.fr  Female    Paris 03   \n997                    mglascottrp@census.gov  Female      Berlín   \n998                    rferrierirq@meetup.com    Male     Hamburg   \n999                      aconyardrr@umich.edu  Female        Aban   \n\n            country  \n0       South Korea  \n1             China  \n2    Czech Republic  \n3       Philippines  \n4       New Zealand  \n..              ...  \n995          Poland  \n996          France  \n997        Honduras  \n998         Germany  \n999          Russia  \n\n[1000 rows x 7 columns]"
     },
     "execution_count": 7,
     "metadata": {},
     "output_type": "execute_result"
    }
   ],
   "execution_count": 7
  },
  {
   "cell_type": "code",
   "metadata": {
    "cell_id": "00003-781c07fd-46ad-4ef6-8893-f53b7d6c9fe7",
    "deepnote_output_heights": [
     21.1875
    ],
    "deepnote_cell_type": "code"
   },
   "source": "df.shape",
   "outputs": [
    {
     "data": {
      "text/plain": "(1000, 7)"
     },
     "execution_count": 8,
     "metadata": {},
     "output_type": "execute_result"
    }
   ],
   "execution_count": 8
  },
  {
   "cell_type": "code",
   "metadata": {
    "cell_id": "00004-94576eb3-113e-4a5e-81d1-1604f92a6348",
    "deepnote_output_heights": [
     177
    ],
    "deepnote_cell_type": "code"
   },
   "source": "df.head()",
   "outputs": [
    {
     "data": {
      "text/html": "<div>\n<style scoped>\n    .dataframe tbody tr th:only-of-type {\n        vertical-align: middle;\n    }\n\n    .dataframe tbody tr th {\n        vertical-align: top;\n    }\n\n    .dataframe thead th {\n        text-align: right;\n    }\n</style>\n<table border=\"1\" class=\"dataframe\">\n  <thead>\n    <tr style=\"text-align: right;\">\n      <th></th>\n      <th>id</th>\n      <th>first_name</th>\n      <th>last_name</th>\n      <th>email</th>\n      <th>gender</th>\n      <th>city</th>\n      <th>country</th>\n    </tr>\n  </thead>\n  <tbody>\n    <tr>\n      <td>0</td>\n      <td>1</td>\n      <td>Hamel</td>\n      <td>De Fries</td>\n      <td>hdefries0@umich.edu</td>\n      <td>Male</td>\n      <td>Kwangmyŏng</td>\n      <td>South Korea</td>\n    </tr>\n    <tr>\n      <td>1</td>\n      <td>2</td>\n      <td>Alex</td>\n      <td>Jenteau</td>\n      <td>ajenteau1@purevolume.com</td>\n      <td>Male</td>\n      <td>Longxing</td>\n      <td>China</td>\n    </tr>\n    <tr>\n      <td>2</td>\n      <td>3</td>\n      <td>Carr</td>\n      <td>Dengel</td>\n      <td>cdengel2@mayoclinic.com</td>\n      <td>Male</td>\n      <td>Topolná</td>\n      <td>Czech Republic</td>\n    </tr>\n    <tr>\n      <td>3</td>\n      <td>4</td>\n      <td>Glynnis</td>\n      <td>Larret</td>\n      <td>glarret3@newsvine.com</td>\n      <td>Female</td>\n      <td>Gammad</td>\n      <td>Philippines</td>\n    </tr>\n    <tr>\n      <td>4</td>\n      <td>5</td>\n      <td>Nesta</td>\n      <td>Kernermann</td>\n      <td>nkernermann4@businessinsider.com</td>\n      <td>Female</td>\n      <td>Wanganui</td>\n      <td>New Zealand</td>\n    </tr>\n  </tbody>\n</table>\n</div>",
      "text/plain": "   id first_name   last_name                             email  gender  \\\n0   1      Hamel    De Fries               hdefries0@umich.edu    Male   \n1   2       Alex     Jenteau          ajenteau1@purevolume.com    Male   \n2   3       Carr      Dengel           cdengel2@mayoclinic.com    Male   \n3   4    Glynnis      Larret             glarret3@newsvine.com  Female   \n4   5      Nesta  Kernermann  nkernermann4@businessinsider.com  Female   \n\n         city         country  \n0  Kwangmyŏng     South Korea  \n1    Longxing           China  \n2     Topolná  Czech Republic  \n3      Gammad     Philippines  \n4    Wanganui     New Zealand  "
     },
     "execution_count": 9,
     "metadata": {},
     "output_type": "execute_result"
    }
   ],
   "execution_count": 9
  },
  {
   "cell_type": "code",
   "metadata": {
    "cell_id": "00005-abfa1bea-9017-4331-a9df-1836687c5491",
    "deepnote_cell_type": "code"
   },
   "source": "person = {\n    \"first\": \"diego\",\n    \"last\": \"castellanos\",\n    \"email\": \"diegocaste7@hotmail.com\"\n}",
   "outputs": [],
   "execution_count": 10
  },
  {
   "cell_type": "code",
   "metadata": {
    "cell_id": "00006-939bcd89-583a-4874-abef-7a99e660a0b1",
    "deepnote_cell_type": "code"
   },
   "source": "people = {\n    \"first\":[\"diego\",\"felix\"],\n    \"last\":[\"castellanos\",\"castellanos\"],\n    \"email\":[\"diegocaste7@hotmail.com\",\"fix417@hotmail.com\"],\n    \"phone\":[\"3168232891\",\"3165682094\"]\n}",
   "outputs": [],
   "execution_count": 11
  },
  {
   "cell_type": "code",
   "metadata": {
    "cell_id": "00007-028bdc86-ad30-43fd-a798-e6325f7b9a6f",
    "deepnote_output_heights": [
     21.1875
    ],
    "deepnote_cell_type": "code"
   },
   "source": "people[\"email\"]",
   "outputs": [
    {
     "data": {
      "text/plain": "['diegocaste7@hotmail.com', 'fix417@hotmail.com']"
     },
     "execution_count": 12,
     "metadata": {},
     "output_type": "execute_result"
    }
   ],
   "execution_count": 12
  },
  {
   "cell_type": "code",
   "metadata": {
    "cell_id": "00008-43a6aa32-e64d-4b72-bec6-3b4aaa1a50a1",
    "deepnote_cell_type": "code"
   },
   "source": "da = pd.DataFrame(people)",
   "outputs": [],
   "execution_count": 13
  },
  {
   "cell_type": "code",
   "metadata": {
    "cell_id": "00009-f7ad4941-934d-4ca5-97af-fc9fad5b7b57",
    "deepnote_output_heights": [
     90
    ],
    "deepnote_cell_type": "code"
   },
   "source": "da",
   "outputs": [
    {
     "data": {
      "text/html": "<div>\n<style scoped>\n    .dataframe tbody tr th:only-of-type {\n        vertical-align: middle;\n    }\n\n    .dataframe tbody tr th {\n        vertical-align: top;\n    }\n\n    .dataframe thead th {\n        text-align: right;\n    }\n</style>\n<table border=\"1\" class=\"dataframe\">\n  <thead>\n    <tr style=\"text-align: right;\">\n      <th></th>\n      <th>first</th>\n      <th>last</th>\n      <th>email</th>\n      <th>phone</th>\n    </tr>\n  </thead>\n  <tbody>\n    <tr>\n      <td>0</td>\n      <td>diego</td>\n      <td>castellanos</td>\n      <td>diegocaste7@hotmail.com</td>\n      <td>3168232891</td>\n    </tr>\n    <tr>\n      <td>1</td>\n      <td>felix</td>\n      <td>castellanos</td>\n      <td>fix417@hotmail.com</td>\n      <td>3165682094</td>\n    </tr>\n  </tbody>\n</table>\n</div>",
      "text/plain": "   first         last                    email       phone\n0  diego  castellanos  diegocaste7@hotmail.com  3168232891\n1  felix  castellanos       fix417@hotmail.com  3165682094"
     },
     "execution_count": 14,
     "metadata": {},
     "output_type": "execute_result"
    }
   ],
   "execution_count": 14
  },
  {
   "cell_type": "code",
   "metadata": {
    "cell_id": "00010-7200ac82-cf80-4411-b8cd-dcf79d826f14",
    "deepnote_output_heights": [
     59.5625
    ],
    "deepnote_cell_type": "code"
   },
   "source": "da['email']",
   "outputs": [
    {
     "data": {
      "text/plain": "0    diegocaste7@hotmail.com\n1         fix417@hotmail.com\nName: email, dtype: object"
     },
     "execution_count": 15,
     "metadata": {},
     "output_type": "execute_result"
    }
   ],
   "execution_count": 15
  },
  {
   "cell_type": "code",
   "metadata": {
    "cell_id": "00011-ad55ec26-d8ee-4445-8a66-e27435158bd1",
    "deepnote_output_heights": [
     21.1875
    ],
    "deepnote_cell_type": "code"
   },
   "source": "type(df['email'])",
   "outputs": [
    {
     "data": {
      "text/plain": "pandas.core.series.Series"
     },
     "execution_count": 16,
     "metadata": {},
     "output_type": "execute_result"
    }
   ],
   "execution_count": 16
  },
  {
   "cell_type": "code",
   "metadata": {
    "cell_id": "00012-b689e561-fbb1-4084-adef-dd93e831549d",
    "deepnote_output_heights": [
     59.5625
    ],
    "deepnote_cell_type": "code"
   },
   "source": "da.email",
   "outputs": [
    {
     "data": {
      "text/plain": "0    diegocaste7@hotmail.com\n1         fix417@hotmail.com\nName: email, dtype: object"
     },
     "execution_count": 17,
     "metadata": {},
     "output_type": "execute_result"
    }
   ],
   "execution_count": 17
  },
  {
   "cell_type": "code",
   "metadata": {
    "cell_id": "00013-a9960d3d-d6d2-417f-b460-86ffb77b4499",
    "deepnote_output_heights": [
     90
    ],
    "deepnote_cell_type": "code"
   },
   "source": "da[['last','email']]",
   "outputs": [
    {
     "data": {
      "text/html": "<div>\n<style scoped>\n    .dataframe tbody tr th:only-of-type {\n        vertical-align: middle;\n    }\n\n    .dataframe tbody tr th {\n        vertical-align: top;\n    }\n\n    .dataframe thead th {\n        text-align: right;\n    }\n</style>\n<table border=\"1\" class=\"dataframe\">\n  <thead>\n    <tr style=\"text-align: right;\">\n      <th></th>\n      <th>last</th>\n      <th>email</th>\n    </tr>\n  </thead>\n  <tbody>\n    <tr>\n      <td>0</td>\n      <td>castellanos</td>\n      <td>diegocaste7@hotmail.com</td>\n    </tr>\n    <tr>\n      <td>1</td>\n      <td>castellanos</td>\n      <td>fix417@hotmail.com</td>\n    </tr>\n  </tbody>\n</table>\n</div>",
      "text/plain": "          last                    email\n0  castellanos  diegocaste7@hotmail.com\n1  castellanos       fix417@hotmail.com"
     },
     "execution_count": 18,
     "metadata": {},
     "output_type": "execute_result"
    }
   ],
   "execution_count": 18
  },
  {
   "cell_type": "code",
   "metadata": {
    "cell_id": "00014-fd30e338-26c1-4fbc-b58b-d3b698f0e090",
    "deepnote_output_heights": [
     21.1875
    ],
    "deepnote_cell_type": "code"
   },
   "source": "df.columns",
   "outputs": [
    {
     "data": {
      "text/plain": "Index(['id', 'first_name', 'last_name', 'email', 'gender', 'city', 'country'], dtype='object')"
     },
     "execution_count": 19,
     "metadata": {},
     "output_type": "execute_result"
    }
   ],
   "execution_count": 19
  },
  {
   "cell_type": "code",
   "metadata": {
    "cell_id": "00015-4061578f-6f6d-4021-971c-c0308866642c",
    "deepnote_output_heights": [
     97.9375
    ],
    "deepnote_cell_type": "code"
   },
   "source": "da.iloc[0]",
   "outputs": [
    {
     "data": {
      "text/plain": "first                      diego\nlast                 castellanos\nemail    diegocaste7@hotmail.com\nphone                 3168232891\nName: 0, dtype: object"
     },
     "execution_count": 20,
     "metadata": {},
     "output_type": "execute_result"
    }
   ],
   "execution_count": 20
  },
  {
   "cell_type": "code",
   "metadata": {
    "cell_id": "00016-d0e9acdb-7f62-4443-ac06-9db3f49c6d32",
    "deepnote_output_heights": [
     59.5625
    ],
    "deepnote_cell_type": "code"
   },
   "source": "da.iloc[[0,1],2] ",
   "outputs": [
    {
     "data": {
      "text/plain": "0    diegocaste7@hotmail.com\n1         fix417@hotmail.com\nName: email, dtype: object"
     },
     "execution_count": 21,
     "metadata": {},
     "output_type": "execute_result"
    }
   ],
   "execution_count": 21
  },
  {
   "cell_type": "code",
   "metadata": {
    "cell_id": "00017-cf731a5b-8398-4c36-a919-3e86335f5bd6",
    "deepnote_output_heights": [
     90
    ],
    "deepnote_cell_type": "code"
   },
   "source": "da",
   "outputs": [
    {
     "data": {
      "text/html": "<div>\n<style scoped>\n    .dataframe tbody tr th:only-of-type {\n        vertical-align: middle;\n    }\n\n    .dataframe tbody tr th {\n        vertical-align: top;\n    }\n\n    .dataframe thead th {\n        text-align: right;\n    }\n</style>\n<table border=\"1\" class=\"dataframe\">\n  <thead>\n    <tr style=\"text-align: right;\">\n      <th></th>\n      <th>first</th>\n      <th>last</th>\n      <th>email</th>\n      <th>phone</th>\n    </tr>\n  </thead>\n  <tbody>\n    <tr>\n      <td>0</td>\n      <td>diego</td>\n      <td>castellanos</td>\n      <td>diegocaste7@hotmail.com</td>\n      <td>3168232891</td>\n    </tr>\n    <tr>\n      <td>1</td>\n      <td>felix</td>\n      <td>castellanos</td>\n      <td>fix417@hotmail.com</td>\n      <td>3165682094</td>\n    </tr>\n  </tbody>\n</table>\n</div>",
      "text/plain": "   first         last                    email       phone\n0  diego  castellanos  diegocaste7@hotmail.com  3168232891\n1  felix  castellanos       fix417@hotmail.com  3165682094"
     },
     "execution_count": 22,
     "metadata": {},
     "output_type": "execute_result"
    }
   ],
   "execution_count": 22
  },
  {
   "cell_type": "code",
   "metadata": {
    "cell_id": "00018-6aae1a1a-3d20-4f58-9c56-6dcd184775a9",
    "deepnote_output_heights": [
     90
    ],
    "deepnote_cell_type": "code"
   },
   "source": "da.loc[[1,0],['email','last']]",
   "outputs": [
    {
     "data": {
      "text/html": "<div>\n<style scoped>\n    .dataframe tbody tr th:only-of-type {\n        vertical-align: middle;\n    }\n\n    .dataframe tbody tr th {\n        vertical-align: top;\n    }\n\n    .dataframe thead th {\n        text-align: right;\n    }\n</style>\n<table border=\"1\" class=\"dataframe\">\n  <thead>\n    <tr style=\"text-align: right;\">\n      <th></th>\n      <th>email</th>\n      <th>last</th>\n    </tr>\n  </thead>\n  <tbody>\n    <tr>\n      <td>1</td>\n      <td>fix417@hotmail.com</td>\n      <td>castellanos</td>\n    </tr>\n    <tr>\n      <td>0</td>\n      <td>diegocaste7@hotmail.com</td>\n      <td>castellanos</td>\n    </tr>\n  </tbody>\n</table>\n</div>",
      "text/plain": "                     email         last\n1       fix417@hotmail.com  castellanos\n0  diegocaste7@hotmail.com  castellanos"
     },
     "execution_count": 23,
     "metadata": {},
     "output_type": "execute_result"
    }
   ],
   "execution_count": 23
  },
  {
   "cell_type": "code",
   "metadata": {
    "cell_id": "00019-e73b34a0-ae73-4a3f-ba83-822049859291",
    "deepnote_output_heights": [
     21.1875
    ],
    "deepnote_cell_type": "code"
   },
   "source": "df.shape",
   "outputs": [
    {
     "data": {
      "text/plain": "(1000, 7)"
     },
     "execution_count": 24,
     "metadata": {},
     "output_type": "execute_result"
    }
   ],
   "execution_count": 24
  },
  {
   "cell_type": "code",
   "metadata": {
    "cell_id": "00020-0b2e6c86-a744-46d1-be35-b28849be7b81",
    "deepnote_output_heights": [
     21.1875
    ],
    "deepnote_cell_type": "code"
   },
   "source": "df.columns",
   "outputs": [
    {
     "data": {
      "text/plain": "Index(['id', 'first_name', 'last_name', 'email', 'gender', 'city', 'country'], dtype='object')"
     },
     "execution_count": 25,
     "metadata": {},
     "output_type": "execute_result"
    }
   ],
   "execution_count": 25
  },
  {
   "cell_type": "code",
   "metadata": {
    "cell_id": "00021-23e30191-71b0-4d3c-84ca-9bf4d3e89f5a",
    "deepnote_output_heights": [
     59.5625
    ],
    "deepnote_cell_type": "code"
   },
   "source": "df['gender'].value_counts()",
   "outputs": [
    {
     "data": {
      "text/plain": "Female    508\nMale      492\nName: gender, dtype: int64"
     },
     "execution_count": 26,
     "metadata": {},
     "output_type": "execute_result"
    }
   ],
   "execution_count": 26
  },
  {
   "cell_type": "code",
   "metadata": {
    "cell_id": "00022-37be3aff-8916-4ec9-a001-348d6e0560bc",
    "deepnote_output_heights": [
     78.75
    ],
    "deepnote_cell_type": "code"
   },
   "source": "df.loc[[260,123,99],'gender']",
   "outputs": [
    {
     "data": {
      "text/plain": "260    Female\n123    Female\n99       Male\nName: gender, dtype: object"
     },
     "execution_count": 27,
     "metadata": {},
     "output_type": "execute_result"
    }
   ],
   "execution_count": 27
  },
  {
   "cell_type": "code",
   "metadata": {
    "cell_id": "00023-7af42156-3b9b-4bf4-974d-3042b963cf35",
    "deepnote_output_heights": [
     235
    ],
    "deepnote_cell_type": "code"
   },
   "source": "df.loc[260:266,'gender':'country']",
   "outputs": [
    {
     "data": {
      "text/html": "<div>\n<style scoped>\n    .dataframe tbody tr th:only-of-type {\n        vertical-align: middle;\n    }\n\n    .dataframe tbody tr th {\n        vertical-align: top;\n    }\n\n    .dataframe thead th {\n        text-align: right;\n    }\n</style>\n<table border=\"1\" class=\"dataframe\">\n  <thead>\n    <tr style=\"text-align: right;\">\n      <th></th>\n      <th>gender</th>\n      <th>city</th>\n      <th>country</th>\n    </tr>\n  </thead>\n  <tbody>\n    <tr>\n      <td>260</td>\n      <td>Female</td>\n      <td>Gualeguaychú</td>\n      <td>Argentina</td>\n    </tr>\n    <tr>\n      <td>261</td>\n      <td>Male</td>\n      <td>Medang</td>\n      <td>Indonesia</td>\n    </tr>\n    <tr>\n      <td>262</td>\n      <td>Male</td>\n      <td>Pirapozinho</td>\n      <td>Brazil</td>\n    </tr>\n    <tr>\n      <td>263</td>\n      <td>Male</td>\n      <td>Narsaq</td>\n      <td>Greenland</td>\n    </tr>\n    <tr>\n      <td>264</td>\n      <td>Male</td>\n      <td>Tsimkavichy</td>\n      <td>Belarus</td>\n    </tr>\n    <tr>\n      <td>265</td>\n      <td>Male</td>\n      <td>Limeil-Brévannes</td>\n      <td>France</td>\n    </tr>\n    <tr>\n      <td>266</td>\n      <td>Female</td>\n      <td>Vilar do Monte</td>\n      <td>Portugal</td>\n    </tr>\n  </tbody>\n</table>\n</div>",
      "text/plain": "     gender              city    country\n260  Female      Gualeguaychú  Argentina\n261    Male            Medang  Indonesia\n262    Male       Pirapozinho     Brazil\n263    Male            Narsaq  Greenland\n264    Male       Tsimkavichy    Belarus\n265    Male  Limeil-Brévannes     France\n266  Female    Vilar do Monte   Portugal"
     },
     "execution_count": 28,
     "metadata": {},
     "output_type": "execute_result"
    }
   ],
   "execution_count": 28
  },
  {
   "cell_type": "code",
   "metadata": {
    "cell_id": "00024-fd72190f-e33d-444f-930d-3174356c1c39",
    "deepnote_cell_type": "code"
   },
   "source": "df.set_index('email',inplace=True)",
   "outputs": [],
   "execution_count": 29
  },
  {
   "cell_type": "code",
   "metadata": {
    "cell_id": "00025-81a07b28-bbda-4011-8229-3c39e741dc52",
    "deepnote_output_heights": [
     411.1875
    ],
    "deepnote_cell_type": "code"
   },
   "source": "df",
   "outputs": [
    {
     "data": {
      "text/html": "<div>\n<style scoped>\n    .dataframe tbody tr th:only-of-type {\n        vertical-align: middle;\n    }\n\n    .dataframe tbody tr th {\n        vertical-align: top;\n    }\n\n    .dataframe thead th {\n        text-align: right;\n    }\n</style>\n<table border=\"1\" class=\"dataframe\">\n  <thead>\n    <tr style=\"text-align: right;\">\n      <th></th>\n      <th>id</th>\n      <th>first_name</th>\n      <th>last_name</th>\n      <th>gender</th>\n      <th>city</th>\n      <th>country</th>\n    </tr>\n    <tr>\n      <th>email</th>\n      <th></th>\n      <th></th>\n      <th></th>\n      <th></th>\n      <th></th>\n      <th></th>\n    </tr>\n  </thead>\n  <tbody>\n    <tr>\n      <td>hdefries0@umich.edu</td>\n      <td>1</td>\n      <td>Hamel</td>\n      <td>De Fries</td>\n      <td>Male</td>\n      <td>Kwangmyŏng</td>\n      <td>South Korea</td>\n    </tr>\n    <tr>\n      <td>ajenteau1@purevolume.com</td>\n      <td>2</td>\n      <td>Alex</td>\n      <td>Jenteau</td>\n      <td>Male</td>\n      <td>Longxing</td>\n      <td>China</td>\n    </tr>\n    <tr>\n      <td>cdengel2@mayoclinic.com</td>\n      <td>3</td>\n      <td>Carr</td>\n      <td>Dengel</td>\n      <td>Male</td>\n      <td>Topolná</td>\n      <td>Czech Republic</td>\n    </tr>\n    <tr>\n      <td>glarret3@newsvine.com</td>\n      <td>4</td>\n      <td>Glynnis</td>\n      <td>Larret</td>\n      <td>Female</td>\n      <td>Gammad</td>\n      <td>Philippines</td>\n    </tr>\n    <tr>\n      <td>nkernermann4@businessinsider.com</td>\n      <td>5</td>\n      <td>Nesta</td>\n      <td>Kernermann</td>\n      <td>Female</td>\n      <td>Wanganui</td>\n      <td>New Zealand</td>\n    </tr>\n    <tr>\n      <td>...</td>\n      <td>...</td>\n      <td>...</td>\n      <td>...</td>\n      <td>...</td>\n      <td>...</td>\n      <td>...</td>\n    </tr>\n    <tr>\n      <td>kdansiern@admin.ch</td>\n      <td>996</td>\n      <td>Kamilah</td>\n      <td>Dansie</td>\n      <td>Female</td>\n      <td>Baranowo</td>\n      <td>Poland</td>\n    </tr>\n    <tr>\n      <td>wthorntondewhirstro@pagesperso-orange.fr</td>\n      <td>997</td>\n      <td>Wandie</td>\n      <td>Thornton-Dewhirst</td>\n      <td>Female</td>\n      <td>Paris 03</td>\n      <td>France</td>\n    </tr>\n    <tr>\n      <td>mglascottrp@census.gov</td>\n      <td>998</td>\n      <td>Merrielle</td>\n      <td>Glascott</td>\n      <td>Female</td>\n      <td>Berlín</td>\n      <td>Honduras</td>\n    </tr>\n    <tr>\n      <td>rferrierirq@meetup.com</td>\n      <td>999</td>\n      <td>Rudolfo</td>\n      <td>Ferrieri</td>\n      <td>Male</td>\n      <td>Hamburg</td>\n      <td>Germany</td>\n    </tr>\n    <tr>\n      <td>aconyardrr@umich.edu</td>\n      <td>1000</td>\n      <td>Aidan</td>\n      <td>Conyard</td>\n      <td>Female</td>\n      <td>Aban</td>\n      <td>Russia</td>\n    </tr>\n  </tbody>\n</table>\n<p>1000 rows × 6 columns</p>\n</div>",
      "text/plain": "                                            id first_name          last_name  \\\nemail                                                                          \nhdefries0@umich.edu                          1      Hamel           De Fries   \najenteau1@purevolume.com                     2       Alex            Jenteau   \ncdengel2@mayoclinic.com                      3       Carr             Dengel   \nglarret3@newsvine.com                        4    Glynnis             Larret   \nnkernermann4@businessinsider.com             5      Nesta         Kernermann   \n...                                        ...        ...                ...   \nkdansiern@admin.ch                         996    Kamilah             Dansie   \nwthorntondewhirstro@pagesperso-orange.fr   997     Wandie  Thornton-Dewhirst   \nmglascottrp@census.gov                     998  Merrielle           Glascott   \nrferrierirq@meetup.com                     999    Rudolfo           Ferrieri   \naconyardrr@umich.edu                      1000      Aidan            Conyard   \n\n                                          gender        city         country  \nemail                                                                         \nhdefries0@umich.edu                         Male  Kwangmyŏng     South Korea  \najenteau1@purevolume.com                    Male    Longxing           China  \ncdengel2@mayoclinic.com                     Male     Topolná  Czech Republic  \nglarret3@newsvine.com                     Female      Gammad     Philippines  \nnkernermann4@businessinsider.com          Female    Wanganui     New Zealand  \n...                                          ...         ...             ...  \nkdansiern@admin.ch                        Female    Baranowo          Poland  \nwthorntondewhirstro@pagesperso-orange.fr  Female    Paris 03          France  \nmglascottrp@census.gov                    Female      Berlín        Honduras  \nrferrierirq@meetup.com                      Male     Hamburg         Germany  \naconyardrr@umich.edu                      Female        Aban          Russia  \n\n[1000 rows x 6 columns]"
     },
     "execution_count": 30,
     "metadata": {},
     "output_type": "execute_result"
    }
   ],
   "execution_count": 30
  },
  {
   "cell_type": "code",
   "metadata": {
    "cell_id": "00026-b7a34379-4b23-422d-af40-6a6ceea9e148",
    "deepnote_output_heights": [
     232.25
    ],
    "deepnote_cell_type": "code"
   },
   "source": "df.index",
   "outputs": [
    {
     "data": {
      "text/plain": "Index(['hdefries0@umich.edu', 'ajenteau1@purevolume.com',\n       'cdengel2@mayoclinic.com', 'glarret3@newsvine.com',\n       'nkernermann4@businessinsider.com', 'kgowar5@ibm.com',\n       'jscotchmer6@cocolog-nifty.com', 'cemblen7@sourceforge.net',\n       'gcattellion8@technorati.com', 'ajiricka9@privacy.gov.au',\n       ...\n       'dhowseleeri@homestead.com', 'rmidlarrj@vinaora.com',\n       'gliddyardrk@google.es', 'nlewseyrl@imdb.com', 'tmcnearm@51.la',\n       'kdansiern@admin.ch', 'wthorntondewhirstro@pagesperso-orange.fr',\n       'mglascottrp@census.gov', 'rferrierirq@meetup.com',\n       'aconyardrr@umich.edu'],\n      dtype='object', name='email', length=1000)"
     },
     "execution_count": 31,
     "metadata": {},
     "output_type": "execute_result"
    }
   ],
   "execution_count": 31
  },
  {
   "cell_type": "code",
   "metadata": {
    "cell_id": "00027-c58906ba-ba87-4bb6-86ce-559b856e442f",
    "deepnote_output_heights": [
     382.1875
    ],
    "deepnote_cell_type": "code"
   },
   "source": "df.reset_index(inplace=True)\ndf",
   "outputs": [
    {
     "data": {
      "text/html": "<div>\n<style scoped>\n    .dataframe tbody tr th:only-of-type {\n        vertical-align: middle;\n    }\n\n    .dataframe tbody tr th {\n        vertical-align: top;\n    }\n\n    .dataframe thead th {\n        text-align: right;\n    }\n</style>\n<table border=\"1\" class=\"dataframe\">\n  <thead>\n    <tr style=\"text-align: right;\">\n      <th></th>\n      <th>email</th>\n      <th>id</th>\n      <th>first_name</th>\n      <th>last_name</th>\n      <th>gender</th>\n      <th>city</th>\n      <th>country</th>\n    </tr>\n  </thead>\n  <tbody>\n    <tr>\n      <td>0</td>\n      <td>hdefries0@umich.edu</td>\n      <td>1</td>\n      <td>Hamel</td>\n      <td>De Fries</td>\n      <td>Male</td>\n      <td>Kwangmyŏng</td>\n      <td>South Korea</td>\n    </tr>\n    <tr>\n      <td>1</td>\n      <td>ajenteau1@purevolume.com</td>\n      <td>2</td>\n      <td>Alex</td>\n      <td>Jenteau</td>\n      <td>Male</td>\n      <td>Longxing</td>\n      <td>China</td>\n    </tr>\n    <tr>\n      <td>2</td>\n      <td>cdengel2@mayoclinic.com</td>\n      <td>3</td>\n      <td>Carr</td>\n      <td>Dengel</td>\n      <td>Male</td>\n      <td>Topolná</td>\n      <td>Czech Republic</td>\n    </tr>\n    <tr>\n      <td>3</td>\n      <td>glarret3@newsvine.com</td>\n      <td>4</td>\n      <td>Glynnis</td>\n      <td>Larret</td>\n      <td>Female</td>\n      <td>Gammad</td>\n      <td>Philippines</td>\n    </tr>\n    <tr>\n      <td>4</td>\n      <td>nkernermann4@businessinsider.com</td>\n      <td>5</td>\n      <td>Nesta</td>\n      <td>Kernermann</td>\n      <td>Female</td>\n      <td>Wanganui</td>\n      <td>New Zealand</td>\n    </tr>\n    <tr>\n      <td>...</td>\n      <td>...</td>\n      <td>...</td>\n      <td>...</td>\n      <td>...</td>\n      <td>...</td>\n      <td>...</td>\n      <td>...</td>\n    </tr>\n    <tr>\n      <td>995</td>\n      <td>kdansiern@admin.ch</td>\n      <td>996</td>\n      <td>Kamilah</td>\n      <td>Dansie</td>\n      <td>Female</td>\n      <td>Baranowo</td>\n      <td>Poland</td>\n    </tr>\n    <tr>\n      <td>996</td>\n      <td>wthorntondewhirstro@pagesperso-orange.fr</td>\n      <td>997</td>\n      <td>Wandie</td>\n      <td>Thornton-Dewhirst</td>\n      <td>Female</td>\n      <td>Paris 03</td>\n      <td>France</td>\n    </tr>\n    <tr>\n      <td>997</td>\n      <td>mglascottrp@census.gov</td>\n      <td>998</td>\n      <td>Merrielle</td>\n      <td>Glascott</td>\n      <td>Female</td>\n      <td>Berlín</td>\n      <td>Honduras</td>\n    </tr>\n    <tr>\n      <td>998</td>\n      <td>rferrierirq@meetup.com</td>\n      <td>999</td>\n      <td>Rudolfo</td>\n      <td>Ferrieri</td>\n      <td>Male</td>\n      <td>Hamburg</td>\n      <td>Germany</td>\n    </tr>\n    <tr>\n      <td>999</td>\n      <td>aconyardrr@umich.edu</td>\n      <td>1000</td>\n      <td>Aidan</td>\n      <td>Conyard</td>\n      <td>Female</td>\n      <td>Aban</td>\n      <td>Russia</td>\n    </tr>\n  </tbody>\n</table>\n<p>1000 rows × 7 columns</p>\n</div>",
      "text/plain": "                                        email    id first_name  \\\n0                         hdefries0@umich.edu     1      Hamel   \n1                    ajenteau1@purevolume.com     2       Alex   \n2                     cdengel2@mayoclinic.com     3       Carr   \n3                       glarret3@newsvine.com     4    Glynnis   \n4            nkernermann4@businessinsider.com     5      Nesta   \n..                                        ...   ...        ...   \n995                        kdansiern@admin.ch   996    Kamilah   \n996  wthorntondewhirstro@pagesperso-orange.fr   997     Wandie   \n997                    mglascottrp@census.gov   998  Merrielle   \n998                    rferrierirq@meetup.com   999    Rudolfo   \n999                      aconyardrr@umich.edu  1000      Aidan   \n\n             last_name  gender        city         country  \n0             De Fries    Male  Kwangmyŏng     South Korea  \n1              Jenteau    Male    Longxing           China  \n2               Dengel    Male     Topolná  Czech Republic  \n3               Larret  Female      Gammad     Philippines  \n4           Kernermann  Female    Wanganui     New Zealand  \n..                 ...     ...         ...             ...  \n995             Dansie  Female    Baranowo          Poland  \n996  Thornton-Dewhirst  Female    Paris 03          France  \n997           Glascott  Female      Berlín        Honduras  \n998           Ferrieri    Male     Hamburg         Germany  \n999            Conyard  Female        Aban          Russia  \n\n[1000 rows x 7 columns]"
     },
     "execution_count": 32,
     "metadata": {},
     "output_type": "execute_result"
    }
   ],
   "execution_count": 32
  },
  {
   "cell_type": "code",
   "metadata": {
    "cell_id": "00028-d9a3b0e3-a808-4d22-a8b5-5f1f63a8eeac",
    "deepnote_output_heights": [
     382.1875
    ],
    "deepnote_cell_type": "code"
   },
   "source": "df",
   "outputs": [
    {
     "data": {
      "text/html": "<div>\n<style scoped>\n    .dataframe tbody tr th:only-of-type {\n        vertical-align: middle;\n    }\n\n    .dataframe tbody tr th {\n        vertical-align: top;\n    }\n\n    .dataframe thead th {\n        text-align: right;\n    }\n</style>\n<table border=\"1\" class=\"dataframe\">\n  <thead>\n    <tr style=\"text-align: right;\">\n      <th></th>\n      <th>email</th>\n      <th>id</th>\n      <th>first_name</th>\n      <th>last_name</th>\n      <th>gender</th>\n      <th>city</th>\n      <th>country</th>\n    </tr>\n  </thead>\n  <tbody>\n    <tr>\n      <td>0</td>\n      <td>hdefries0@umich.edu</td>\n      <td>1</td>\n      <td>Hamel</td>\n      <td>De Fries</td>\n      <td>Male</td>\n      <td>Kwangmyŏng</td>\n      <td>South Korea</td>\n    </tr>\n    <tr>\n      <td>1</td>\n      <td>ajenteau1@purevolume.com</td>\n      <td>2</td>\n      <td>Alex</td>\n      <td>Jenteau</td>\n      <td>Male</td>\n      <td>Longxing</td>\n      <td>China</td>\n    </tr>\n    <tr>\n      <td>2</td>\n      <td>cdengel2@mayoclinic.com</td>\n      <td>3</td>\n      <td>Carr</td>\n      <td>Dengel</td>\n      <td>Male</td>\n      <td>Topolná</td>\n      <td>Czech Republic</td>\n    </tr>\n    <tr>\n      <td>3</td>\n      <td>glarret3@newsvine.com</td>\n      <td>4</td>\n      <td>Glynnis</td>\n      <td>Larret</td>\n      <td>Female</td>\n      <td>Gammad</td>\n      <td>Philippines</td>\n    </tr>\n    <tr>\n      <td>4</td>\n      <td>nkernermann4@businessinsider.com</td>\n      <td>5</td>\n      <td>Nesta</td>\n      <td>Kernermann</td>\n      <td>Female</td>\n      <td>Wanganui</td>\n      <td>New Zealand</td>\n    </tr>\n    <tr>\n      <td>...</td>\n      <td>...</td>\n      <td>...</td>\n      <td>...</td>\n      <td>...</td>\n      <td>...</td>\n      <td>...</td>\n      <td>...</td>\n    </tr>\n    <tr>\n      <td>995</td>\n      <td>kdansiern@admin.ch</td>\n      <td>996</td>\n      <td>Kamilah</td>\n      <td>Dansie</td>\n      <td>Female</td>\n      <td>Baranowo</td>\n      <td>Poland</td>\n    </tr>\n    <tr>\n      <td>996</td>\n      <td>wthorntondewhirstro@pagesperso-orange.fr</td>\n      <td>997</td>\n      <td>Wandie</td>\n      <td>Thornton-Dewhirst</td>\n      <td>Female</td>\n      <td>Paris 03</td>\n      <td>France</td>\n    </tr>\n    <tr>\n      <td>997</td>\n      <td>mglascottrp@census.gov</td>\n      <td>998</td>\n      <td>Merrielle</td>\n      <td>Glascott</td>\n      <td>Female</td>\n      <td>Berlín</td>\n      <td>Honduras</td>\n    </tr>\n    <tr>\n      <td>998</td>\n      <td>rferrierirq@meetup.com</td>\n      <td>999</td>\n      <td>Rudolfo</td>\n      <td>Ferrieri</td>\n      <td>Male</td>\n      <td>Hamburg</td>\n      <td>Germany</td>\n    </tr>\n    <tr>\n      <td>999</td>\n      <td>aconyardrr@umich.edu</td>\n      <td>1000</td>\n      <td>Aidan</td>\n      <td>Conyard</td>\n      <td>Female</td>\n      <td>Aban</td>\n      <td>Russia</td>\n    </tr>\n  </tbody>\n</table>\n<p>1000 rows × 7 columns</p>\n</div>",
      "text/plain": "                                        email    id first_name  \\\n0                         hdefries0@umich.edu     1      Hamel   \n1                    ajenteau1@purevolume.com     2       Alex   \n2                     cdengel2@mayoclinic.com     3       Carr   \n3                       glarret3@newsvine.com     4    Glynnis   \n4            nkernermann4@businessinsider.com     5      Nesta   \n..                                        ...   ...        ...   \n995                        kdansiern@admin.ch   996    Kamilah   \n996  wthorntondewhirstro@pagesperso-orange.fr   997     Wandie   \n997                    mglascottrp@census.gov   998  Merrielle   \n998                    rferrierirq@meetup.com   999    Rudolfo   \n999                      aconyardrr@umich.edu  1000      Aidan   \n\n             last_name  gender        city         country  \n0             De Fries    Male  Kwangmyŏng     South Korea  \n1              Jenteau    Male    Longxing           China  \n2               Dengel    Male     Topolná  Czech Republic  \n3               Larret  Female      Gammad     Philippines  \n4           Kernermann  Female    Wanganui     New Zealand  \n..                 ...     ...         ...             ...  \n995             Dansie  Female    Baranowo          Poland  \n996  Thornton-Dewhirst  Female    Paris 03          France  \n997           Glascott  Female      Berlín        Honduras  \n998           Ferrieri    Male     Hamburg         Germany  \n999            Conyard  Female        Aban          Russia  \n\n[1000 rows x 7 columns]"
     },
     "execution_count": 33,
     "metadata": {},
     "output_type": "execute_result"
    }
   ],
   "execution_count": 33
  },
  {
   "cell_type": "code",
   "metadata": {
    "cell_id": "00029-f8789d71-3a89-4bae-a0df-b44c2d26e88d",
    "deepnote_cell_type": "code"
   },
   "source": "import pandas as pd\n",
   "outputs": [],
   "execution_count": 34
  },
  {
   "cell_type": "code",
   "metadata": {
    "cell_id": "00030-6ab4bdc1-38c0-4abd-bda6-e2671f605356",
    "deepnote_output_heights": [
     232.25
    ],
    "deepnote_cell_type": "code"
   },
   "source": "dfi = pd.read_csv('users_complete.csv')\ndfi['first_name'] == 'Bale'",
   "outputs": [
    {
     "data": {
      "text/plain": "0      False\n1       True\n2      False\n3      False\n4      False\n       ...  \n995    False\n996    False\n997    False\n998    False\n999    False\nName: first_name, Length: 1000, dtype: bool"
     },
     "execution_count": 35,
     "metadata": {},
     "output_type": "execute_result"
    }
   ],
   "execution_count": 35
  },
  {
   "cell_type": "code",
   "metadata": {
    "cell_id": "00031-4813ba33-f77b-4519-a0e8-ddf69d8a9663",
    "deepnote_cell_type": "code"
   },
   "source": "filt = (dfi['country'] == 'Colombia')",
   "outputs": [],
   "execution_count": 36
  },
  {
   "cell_type": "code",
   "metadata": {
    "cell_id": "00032-4422c9c7-18a3-4e7d-bae9-fab6d6799516",
    "deepnote_output_heights": [
     380
    ],
    "deepnote_cell_type": "code"
   },
   "source": "dfi.loc[filt,['sector','city']]",
   "outputs": [
    {
     "data": {
      "text/html": "<div>\n<style scoped>\n    .dataframe tbody tr th:only-of-type {\n        vertical-align: middle;\n    }\n\n    .dataframe tbody tr th {\n        vertical-align: top;\n    }\n\n    .dataframe thead th {\n        text-align: right;\n    }\n</style>\n<table border=\"1\" class=\"dataframe\">\n  <thead>\n    <tr style=\"text-align: right;\">\n      <th></th>\n      <th>sector</th>\n      <th>city</th>\n    </tr>\n  </thead>\n  <tbody>\n    <tr>\n      <td>88</td>\n      <td>Finance</td>\n      <td>Santo Tomás</td>\n    </tr>\n    <tr>\n      <td>242</td>\n      <td>Energy</td>\n      <td>Combita</td>\n    </tr>\n    <tr>\n      <td>382</td>\n      <td>Technology</td>\n      <td>Belalcazar</td>\n    </tr>\n    <tr>\n      <td>463</td>\n      <td>Finance</td>\n      <td>Jardín</td>\n    </tr>\n    <tr>\n      <td>511</td>\n      <td>NaN</td>\n      <td>Ibagué</td>\n    </tr>\n    <tr>\n      <td>560</td>\n      <td>NaN</td>\n      <td>Palmira</td>\n    </tr>\n    <tr>\n      <td>595</td>\n      <td>NaN</td>\n      <td>Girardot</td>\n    </tr>\n    <tr>\n      <td>611</td>\n      <td>Health Care</td>\n      <td>Guacarí</td>\n    </tr>\n    <tr>\n      <td>632</td>\n      <td>Energy</td>\n      <td>Gualmatán</td>\n    </tr>\n    <tr>\n      <td>633</td>\n      <td>Basic Industries</td>\n      <td>Miranda</td>\n    </tr>\n    <tr>\n      <td>778</td>\n      <td>Basic Industries</td>\n      <td>El Águila</td>\n    </tr>\n    <tr>\n      <td>906</td>\n      <td>Health Care</td>\n      <td>Villamaría</td>\n    </tr>\n  </tbody>\n</table>\n</div>",
      "text/plain": "               sector         city\n88            Finance  Santo Tomás\n242            Energy      Combita\n382        Technology   Belalcazar\n463           Finance       Jardín\n511               NaN       Ibagué\n560               NaN      Palmira\n595               NaN     Girardot\n611       Health Care      Guacarí\n632            Energy    Gualmatán\n633  Basic Industries      Miranda\n778  Basic Industries    El Águila\n906       Health Care   Villamaría"
     },
     "execution_count": 37,
     "metadata": {},
     "output_type": "execute_result"
    }
   ],
   "execution_count": 37
  },
  {
   "cell_type": "code",
   "metadata": {
    "cell_id": "00033-9eed532b-5cf6-424f-937c-80ca8638b3e9",
    "deepnote_cell_type": "code"
   },
   "source": "where = (dfi['country']=='China') & (dfi['sector']=='Finance')",
   "outputs": [],
   "execution_count": 38
  },
  {
   "cell_type": "code",
   "metadata": {
    "cell_id": "00034-380a955c-5404-46c3-ba8c-243c96c48fc9",
    "deepnote_output_heights": [
     607
    ],
    "deepnote_cell_type": "code"
   },
   "source": "dfi.loc[where]",
   "outputs": [
    {
     "data": {
      "text/html": "<div>\n<style scoped>\n    .dataframe tbody tr th:only-of-type {\n        vertical-align: middle;\n    }\n\n    .dataframe tbody tr th {\n        vertical-align: top;\n    }\n\n    .dataframe thead th {\n        text-align: right;\n    }\n</style>\n<table border=\"1\" class=\"dataframe\">\n  <thead>\n    <tr style=\"text-align: right;\">\n      <th></th>\n      <th>id</th>\n      <th>first_name</th>\n      <th>last_name</th>\n      <th>email</th>\n      <th>gender</th>\n      <th>ip_address</th>\n      <th>city</th>\n      <th>country</th>\n      <th>phone</th>\n      <th>time-zone</th>\n      <th>sector</th>\n      <th>university</th>\n      <th>company</th>\n      <th>money</th>\n      <th>stock-name</th>\n    </tr>\n  </thead>\n  <tbody>\n    <tr>\n      <td>0</td>\n      <td>1</td>\n      <td>Nicol</td>\n      <td>Gontier</td>\n      <td>ngontier0@moonfruit.com</td>\n      <td>Male</td>\n      <td>14.6.133.124</td>\n      <td>Jiangnan</td>\n      <td>China</td>\n      <td>582-277-7571</td>\n      <td>Asia/Shanghai</td>\n      <td>Finance</td>\n      <td>Shanghai Institue of Foreign Trade</td>\n      <td>Twinder</td>\n      <td>$2.24</td>\n      <td>AmeriServ Financial Inc.</td>\n    </tr>\n    <tr>\n      <td>14</td>\n      <td>15</td>\n      <td>Ingrid</td>\n      <td>Feldhorn</td>\n      <td>ifeldhorne@squidoo.com</td>\n      <td>Female</td>\n      <td>198.51.113.205</td>\n      <td>Changgai</td>\n      <td>China</td>\n      <td>989-970-2075</td>\n      <td>Asia/Shanghai</td>\n      <td>Finance</td>\n      <td>Zhengda Software College</td>\n      <td>Twitterlist</td>\n      <td>$5.21</td>\n      <td>Waddell &amp; Reed Financial, Inc.</td>\n    </tr>\n    <tr>\n      <td>40</td>\n      <td>41</td>\n      <td>Coop</td>\n      <td>Goulstone</td>\n      <td>cgoulstone14@loc.gov</td>\n      <td>Male</td>\n      <td>24.91.196.206</td>\n      <td>Wuhao</td>\n      <td>China</td>\n      <td>854-834-4256</td>\n      <td>Asia/Harbin</td>\n      <td>Finance</td>\n      <td>Xi'an Jiaotong University</td>\n      <td>Yamia</td>\n      <td>$2.92</td>\n      <td>Prudential Financial, Inc.</td>\n    </tr>\n    <tr>\n      <td>177</td>\n      <td>178</td>\n      <td>Pauly</td>\n      <td>Mossdale</td>\n      <td>pmossdale4x@illinois.edu</td>\n      <td>Female</td>\n      <td>125.119.85.6</td>\n      <td>Jiaoshi</td>\n      <td>China</td>\n      <td>881-716-8817</td>\n      <td>Asia/Chongqing</td>\n      <td>Finance</td>\n      <td>Zhanjiang Ocean University</td>\n      <td>Youfeed</td>\n      <td>$4.36</td>\n      <td>Houlihan Lokey, Inc.</td>\n    </tr>\n    <tr>\n      <td>182</td>\n      <td>183</td>\n      <td>Broddy</td>\n      <td>Turneux</td>\n      <td>bturneux52@ucla.edu</td>\n      <td>Male</td>\n      <td>231.209.235.16</td>\n      <td>Lijiaxiang</td>\n      <td>China</td>\n      <td>385-619-4614</td>\n      <td>Asia/Shanghai</td>\n      <td>Finance</td>\n      <td>Fudan University</td>\n      <td>Jaxworks</td>\n      <td>$0.69</td>\n      <td>Euronet Worldwide, Inc.</td>\n    </tr>\n    <tr>\n      <td>188</td>\n      <td>189</td>\n      <td>Keelia</td>\n      <td>Rimington</td>\n      <td>krimington58@wikispaces.com</td>\n      <td>Female</td>\n      <td>20.104.54.78</td>\n      <td>Banzhong</td>\n      <td>China</td>\n      <td>410-295-7142</td>\n      <td>Asia/Shanghai</td>\n      <td>Finance</td>\n      <td>Shanghai Medical University</td>\n      <td>Mynte</td>\n      <td>$8.69</td>\n      <td>Donegal Group, Inc.</td>\n    </tr>\n    <tr>\n      <td>279</td>\n      <td>280</td>\n      <td>Mateo</td>\n      <td>Gealle</td>\n      <td>mgealle7r@fda.gov</td>\n      <td>Male</td>\n      <td>248.136.77.9</td>\n      <td>Xinshidu</td>\n      <td>China</td>\n      <td>229-571-4662</td>\n      <td>Asia/Chongqing</td>\n      <td>Finance</td>\n      <td>The University of Nottingham Ningbo China</td>\n      <td>Bubblebox</td>\n      <td>$8.73</td>\n      <td>Banco Santander, S.A.</td>\n    </tr>\n    <tr>\n      <td>286</td>\n      <td>287</td>\n      <td>Staford</td>\n      <td>Rizzello</td>\n      <td>srizzello7y@mediafire.com</td>\n      <td>Male</td>\n      <td>6.233.7.148</td>\n      <td>Jiancheng</td>\n      <td>China</td>\n      <td>731-295-8066</td>\n      <td>Asia/Chongqing</td>\n      <td>Finance</td>\n      <td>Chengdu Institute of Sichuan International Stu...</td>\n      <td>Browseblab</td>\n      <td>$2.42</td>\n      <td>Investment Technology Group, Inc.</td>\n    </tr>\n    <tr>\n      <td>428</td>\n      <td>429</td>\n      <td>Donaugh</td>\n      <td>Geroldo</td>\n      <td>dgeroldobw@over-blog.com</td>\n      <td>Male</td>\n      <td>159.56.252.96</td>\n      <td>Ankou</td>\n      <td>China</td>\n      <td>916-449-1161</td>\n      <td>Asia/Chongqing</td>\n      <td>Finance</td>\n      <td>Liaocheng Teachers University</td>\n      <td>Jazzy</td>\n      <td>$4.00</td>\n      <td>Southside Bancshares, Inc.</td>\n    </tr>\n    <tr>\n      <td>440</td>\n      <td>441</td>\n      <td>Brannon</td>\n      <td>Veness</td>\n      <td>bvenessc8@youku.com</td>\n      <td>Male</td>\n      <td>36.144.179.91</td>\n      <td>Qingquan</td>\n      <td>China</td>\n      <td>589-476-0763</td>\n      <td>Asia/Chongqing</td>\n      <td>Finance</td>\n      <td>Hebei University of Science and Technology</td>\n      <td>Wikizz</td>\n      <td>$1.29</td>\n      <td>Southern First Bancshares, Inc.</td>\n    </tr>\n    <tr>\n      <td>443</td>\n      <td>444</td>\n      <td>Cornie</td>\n      <td>Soares</td>\n      <td>csoarescb@irs.gov</td>\n      <td>Male</td>\n      <td>34.89.55.242</td>\n      <td>Dazhou</td>\n      <td>China</td>\n      <td>854-302-3439</td>\n      <td>Asia/Chongqing</td>\n      <td>Finance</td>\n      <td>Zhejiang Gongshang University</td>\n      <td>Fliptune</td>\n      <td>$6.40</td>\n      <td>Bank Of Montreal</td>\n    </tr>\n    <tr>\n      <td>557</td>\n      <td>558</td>\n      <td>Francis</td>\n      <td>Loynes</td>\n      <td>floynesfh@forbes.com</td>\n      <td>Male</td>\n      <td>175.140.103.29</td>\n      <td>Tangzang</td>\n      <td>China</td>\n      <td>674-342-5468</td>\n      <td>Asia/Chongqing</td>\n      <td>Finance</td>\n      <td>Qiongzhou University</td>\n      <td>Yacero</td>\n      <td>$1.86</td>\n      <td>Southwest Bancorp, Inc.</td>\n    </tr>\n    <tr>\n      <td>574</td>\n      <td>575</td>\n      <td>Alister</td>\n      <td>Tricker</td>\n      <td>atrickerfy@slashdot.org</td>\n      <td>Male</td>\n      <td>19.129.90.211</td>\n      <td>Weichanglu</td>\n      <td>China</td>\n      <td>595-181-6234</td>\n      <td>Asia/Shanghai</td>\n      <td>Finance</td>\n      <td>Xinjiang Agriculture University</td>\n      <td>Feedfish</td>\n      <td>$5.42</td>\n      <td>National General Holdings Corp</td>\n    </tr>\n    <tr>\n      <td>690</td>\n      <td>691</td>\n      <td>Meir</td>\n      <td>Ablott</td>\n      <td>mablottj6@hugedomains.com</td>\n      <td>Male</td>\n      <td>162.195.44.19</td>\n      <td>Zhengcun</td>\n      <td>China</td>\n      <td>248-614-6433</td>\n      <td>Asia/Shanghai</td>\n      <td>Finance</td>\n      <td>Yan Shan University</td>\n      <td>Demivee</td>\n      <td>$4.11</td>\n      <td>Heritage Commerce Corp</td>\n    </tr>\n    <tr>\n      <td>708</td>\n      <td>709</td>\n      <td>Myrilla</td>\n      <td>Hegerty</td>\n      <td>mhegertyjo@digg.com</td>\n      <td>Female</td>\n      <td>28.209.214.225</td>\n      <td>Yongfu</td>\n      <td>China</td>\n      <td>135-175-7187</td>\n      <td>Asia/Chongqing</td>\n      <td>Finance</td>\n      <td>Xuzhou Normal University</td>\n      <td>Quimm</td>\n      <td>$6.01</td>\n      <td>KCG Holdings, Inc.</td>\n    </tr>\n    <tr>\n      <td>711</td>\n      <td>712</td>\n      <td>Obidiah</td>\n      <td>Crimp</td>\n      <td>ocrimpjr@nationalgeographic.com</td>\n      <td>Male</td>\n      <td>44.77.62.217</td>\n      <td>Jinggan</td>\n      <td>China</td>\n      <td>134-349-4444</td>\n      <td>Asia/Chongqing</td>\n      <td>Finance</td>\n      <td>Yangzhou University</td>\n      <td>Fiveclub</td>\n      <td>$1.59</td>\n      <td>County Bancorp, Inc.</td>\n    </tr>\n    <tr>\n      <td>807</td>\n      <td>808</td>\n      <td>Gloriane</td>\n      <td>Gidney</td>\n      <td>ggidneymf@slideshare.net</td>\n      <td>Female</td>\n      <td>235.13.169.17</td>\n      <td>Huage</td>\n      <td>China</td>\n      <td>632-629-9571</td>\n      <td>Asia/Chongqing</td>\n      <td>Finance</td>\n      <td>Tongji Medical University</td>\n      <td>Zazio</td>\n      <td>$5.38</td>\n      <td>Kayne Anderson Acquisition Corp.</td>\n    </tr>\n    <tr>\n      <td>826</td>\n      <td>827</td>\n      <td>Tonya</td>\n      <td>Mathevet</td>\n      <td>tmathevetmy@npr.org</td>\n      <td>Female</td>\n      <td>134.191.245.89</td>\n      <td>Jingyang</td>\n      <td>China</td>\n      <td>726-486-4894</td>\n      <td>Asia/Shanghai</td>\n      <td>Finance</td>\n      <td>Urumqi Vocational University</td>\n      <td>Devpulse</td>\n      <td>$6.65</td>\n      <td>Nam Tai Property Inc.</td>\n    </tr>\n    <tr>\n      <td>834</td>\n      <td>835</td>\n      <td>Tobit</td>\n      <td>Luttger</td>\n      <td>tluttgern6@weather.com</td>\n      <td>Male</td>\n      <td>79.41.82.175</td>\n      <td>Jianmin</td>\n      <td>China</td>\n      <td>598-182-5738</td>\n      <td>Asia/Harbin</td>\n      <td>Finance</td>\n      <td>Beijing University of Science and Technology</td>\n      <td>Browsetype</td>\n      <td>$3.33</td>\n      <td>Riverview Bancorp Inc</td>\n    </tr>\n    <tr>\n      <td>878</td>\n      <td>879</td>\n      <td>Sella</td>\n      <td>Pettiford</td>\n      <td>spettifordoe@exblog.jp</td>\n      <td>Female</td>\n      <td>129.155.50.247</td>\n      <td>Liufang</td>\n      <td>China</td>\n      <td>582-941-9447</td>\n      <td>Asia/Shanghai</td>\n      <td>Finance</td>\n      <td>Anhui Normal University</td>\n      <td>Mynte</td>\n      <td>$3.08</td>\n      <td>Fidelity and Guaranty Life</td>\n    </tr>\n    <tr>\n      <td>916</td>\n      <td>917</td>\n      <td>Cornie</td>\n      <td>Tithecote</td>\n      <td>ctithecotepg@yolasite.com</td>\n      <td>Male</td>\n      <td>76.50.212.159</td>\n      <td>Gangmian</td>\n      <td>China</td>\n      <td>823-859-1254</td>\n      <td>Asia/Shanghai</td>\n      <td>Finance</td>\n      <td>Central South Forestry University</td>\n      <td>Shufflebeat</td>\n      <td>$2.30</td>\n      <td>BCB Bancorp, Inc. (NJ)</td>\n    </tr>\n    <tr>\n      <td>924</td>\n      <td>925</td>\n      <td>Dorree</td>\n      <td>Webster</td>\n      <td>dwebsterpo@skyrock.com</td>\n      <td>Female</td>\n      <td>4.72.111.246</td>\n      <td>Ronggui</td>\n      <td>China</td>\n      <td>584-846-2098</td>\n      <td>Asia/Chongqing</td>\n      <td>Finance</td>\n      <td>Wuhan University of Technology</td>\n      <td>Trilith</td>\n      <td>$8.24</td>\n      <td>D/B/A Chubb Limited New</td>\n    </tr>\n  </tbody>\n</table>\n</div>",
      "text/plain": "      id first_name  last_name                            email  gender  \\\n0      1      Nicol    Gontier          ngontier0@moonfruit.com    Male   \n14    15     Ingrid   Feldhorn           ifeldhorne@squidoo.com  Female   \n40    41       Coop  Goulstone             cgoulstone14@loc.gov    Male   \n177  178      Pauly   Mossdale         pmossdale4x@illinois.edu  Female   \n182  183     Broddy    Turneux              bturneux52@ucla.edu    Male   \n188  189     Keelia  Rimington      krimington58@wikispaces.com  Female   \n279  280      Mateo     Gealle                mgealle7r@fda.gov    Male   \n286  287    Staford   Rizzello        srizzello7y@mediafire.com    Male   \n428  429    Donaugh    Geroldo         dgeroldobw@over-blog.com    Male   \n440  441    Brannon     Veness              bvenessc8@youku.com    Male   \n443  444     Cornie     Soares                csoarescb@irs.gov    Male   \n557  558    Francis     Loynes             floynesfh@forbes.com    Male   \n574  575    Alister    Tricker          atrickerfy@slashdot.org    Male   \n690  691       Meir     Ablott        mablottj6@hugedomains.com    Male   \n708  709    Myrilla    Hegerty              mhegertyjo@digg.com  Female   \n711  712    Obidiah      Crimp  ocrimpjr@nationalgeographic.com    Male   \n807  808   Gloriane     Gidney         ggidneymf@slideshare.net  Female   \n826  827      Tonya   Mathevet              tmathevetmy@npr.org  Female   \n834  835      Tobit    Luttger           tluttgern6@weather.com    Male   \n878  879      Sella  Pettiford           spettifordoe@exblog.jp  Female   \n916  917     Cornie  Tithecote        ctithecotepg@yolasite.com    Male   \n924  925     Dorree    Webster           dwebsterpo@skyrock.com  Female   \n\n         ip_address        city country         phone       time-zone  \\\n0      14.6.133.124    Jiangnan   China  582-277-7571   Asia/Shanghai   \n14   198.51.113.205    Changgai   China  989-970-2075   Asia/Shanghai   \n40    24.91.196.206       Wuhao   China  854-834-4256     Asia/Harbin   \n177    125.119.85.6     Jiaoshi   China  881-716-8817  Asia/Chongqing   \n182  231.209.235.16  Lijiaxiang   China  385-619-4614   Asia/Shanghai   \n188    20.104.54.78    Banzhong   China  410-295-7142   Asia/Shanghai   \n279    248.136.77.9    Xinshidu   China  229-571-4662  Asia/Chongqing   \n286     6.233.7.148   Jiancheng   China  731-295-8066  Asia/Chongqing   \n428   159.56.252.96       Ankou   China  916-449-1161  Asia/Chongqing   \n440   36.144.179.91    Qingquan   China  589-476-0763  Asia/Chongqing   \n443    34.89.55.242      Dazhou   China  854-302-3439  Asia/Chongqing   \n557  175.140.103.29    Tangzang   China  674-342-5468  Asia/Chongqing   \n574   19.129.90.211  Weichanglu   China  595-181-6234   Asia/Shanghai   \n690   162.195.44.19    Zhengcun   China  248-614-6433   Asia/Shanghai   \n708  28.209.214.225      Yongfu   China  135-175-7187  Asia/Chongqing   \n711    44.77.62.217     Jinggan   China  134-349-4444  Asia/Chongqing   \n807   235.13.169.17       Huage   China  632-629-9571  Asia/Chongqing   \n826  134.191.245.89    Jingyang   China  726-486-4894   Asia/Shanghai   \n834    79.41.82.175     Jianmin   China  598-182-5738     Asia/Harbin   \n878  129.155.50.247     Liufang   China  582-941-9447   Asia/Shanghai   \n916   76.50.212.159    Gangmian   China  823-859-1254   Asia/Shanghai   \n924    4.72.111.246     Ronggui   China  584-846-2098  Asia/Chongqing   \n\n      sector                                         university      company  \\\n0    Finance                 Shanghai Institue of Foreign Trade      Twinder   \n14   Finance                           Zhengda Software College  Twitterlist   \n40   Finance                          Xi'an Jiaotong University        Yamia   \n177  Finance                         Zhanjiang Ocean University      Youfeed   \n182  Finance                                   Fudan University     Jaxworks   \n188  Finance                        Shanghai Medical University        Mynte   \n279  Finance          The University of Nottingham Ningbo China    Bubblebox   \n286  Finance  Chengdu Institute of Sichuan International Stu...   Browseblab   \n428  Finance                      Liaocheng Teachers University        Jazzy   \n440  Finance         Hebei University of Science and Technology       Wikizz   \n443  Finance                      Zhejiang Gongshang University     Fliptune   \n557  Finance                               Qiongzhou University       Yacero   \n574  Finance                    Xinjiang Agriculture University     Feedfish   \n690  Finance                                Yan Shan University      Demivee   \n708  Finance                           Xuzhou Normal University        Quimm   \n711  Finance                                Yangzhou University     Fiveclub   \n807  Finance                          Tongji Medical University        Zazio   \n826  Finance                       Urumqi Vocational University     Devpulse   \n834  Finance       Beijing University of Science and Technology   Browsetype   \n878  Finance                            Anhui Normal University        Mynte   \n916  Finance                  Central South Forestry University  Shufflebeat   \n924  Finance                     Wuhan University of Technology      Trilith   \n\n     money                         stock-name  \n0    $2.24           AmeriServ Financial Inc.  \n14   $5.21     Waddell & Reed Financial, Inc.  \n40   $2.92         Prudential Financial, Inc.  \n177  $4.36               Houlihan Lokey, Inc.  \n182  $0.69            Euronet Worldwide, Inc.  \n188  $8.69                Donegal Group, Inc.  \n279  $8.73              Banco Santander, S.A.  \n286  $2.42  Investment Technology Group, Inc.  \n428  $4.00         Southside Bancshares, Inc.  \n440  $1.29    Southern First Bancshares, Inc.  \n443  $6.40                   Bank Of Montreal  \n557  $1.86            Southwest Bancorp, Inc.  \n574  $5.42     National General Holdings Corp  \n690  $4.11             Heritage Commerce Corp  \n708  $6.01                 KCG Holdings, Inc.  \n711  $1.59               County Bancorp, Inc.  \n807  $5.38   Kayne Anderson Acquisition Corp.  \n826  $6.65              Nam Tai Property Inc.  \n834  $3.33              Riverview Bancorp Inc  \n878  $3.08         Fidelity and Guaranty Life  \n916  $2.30             BCB Bancorp, Inc. (NJ)  \n924  $8.24            D/B/A Chubb Limited New  "
     },
     "execution_count": 39,
     "metadata": {},
     "output_type": "execute_result"
    }
   ],
   "execution_count": 39
  },
  {
   "cell_type": "code",
   "metadata": {
    "cell_id": "00035-3592ddf4-b5d2-4a99-9a4f-3e333e0ed9f1",
    "deepnote_output_heights": [
     382.1875
    ],
    "deepnote_cell_type": "code"
   },
   "source": "where = (dfi['country']=='China') & (dfi['sector']=='Finance')\ndfi.loc[~where]",
   "outputs": [
    {
     "data": {
      "text/html": "<div>\n<style scoped>\n    .dataframe tbody tr th:only-of-type {\n        vertical-align: middle;\n    }\n\n    .dataframe tbody tr th {\n        vertical-align: top;\n    }\n\n    .dataframe thead th {\n        text-align: right;\n    }\n</style>\n<table border=\"1\" class=\"dataframe\">\n  <thead>\n    <tr style=\"text-align: right;\">\n      <th></th>\n      <th>id</th>\n      <th>first_name</th>\n      <th>last_name</th>\n      <th>email</th>\n      <th>gender</th>\n      <th>ip_address</th>\n      <th>city</th>\n      <th>country</th>\n      <th>phone</th>\n      <th>time-zone</th>\n      <th>sector</th>\n      <th>university</th>\n      <th>company</th>\n      <th>money</th>\n      <th>stock-name</th>\n    </tr>\n  </thead>\n  <tbody>\n    <tr>\n      <td>1</td>\n      <td>2</td>\n      <td>Bale</td>\n      <td>Defont</td>\n      <td>bdefont1@biblegateway.com</td>\n      <td>Male</td>\n      <td>213.198.46.35</td>\n      <td>Paris 01</td>\n      <td>France</td>\n      <td>262-426-2235</td>\n      <td>Europe/Paris</td>\n      <td>Energy</td>\n      <td>IDRAC (Institut de recherche en action commerc...</td>\n      <td>Skipstorm</td>\n      <td>$8.09</td>\n      <td>Range Resources Corporation</td>\n    </tr>\n    <tr>\n      <td>2</td>\n      <td>3</td>\n      <td>Paula</td>\n      <td>Orrell</td>\n      <td>porrell2@nih.gov</td>\n      <td>Female</td>\n      <td>12.73.137.140</td>\n      <td>Olafulihaa</td>\n      <td>Indonesia</td>\n      <td>534-284-1417</td>\n      <td>Asia/Makassar</td>\n      <td>Consumer Services</td>\n      <td>Universitas Atma Jaya Yogyakarta</td>\n      <td>Eidel</td>\n      <td>$9.01</td>\n      <td>Ferrellgas Partners, L.P.</td>\n    </tr>\n    <tr>\n      <td>3</td>\n      <td>4</td>\n      <td>Kristopher</td>\n      <td>Mulchrone</td>\n      <td>kmulchrone3@posterous.com</td>\n      <td>Male</td>\n      <td>177.30.62.230</td>\n      <td>Chicago</td>\n      <td>United States</td>\n      <td>773-237-4393</td>\n      <td>America/Chicago</td>\n      <td>NaN</td>\n      <td>California School of Professional Psychology -...</td>\n      <td>LiveZ</td>\n      <td>$4.38</td>\n      <td>Putnam High Income Bond Fund</td>\n    </tr>\n    <tr>\n      <td>4</td>\n      <td>5</td>\n      <td>Traver</td>\n      <td>Marland</td>\n      <td>tmarland4@about.com</td>\n      <td>Male</td>\n      <td>221.191.58.184</td>\n      <td>Bang Lamung</td>\n      <td>Thailand</td>\n      <td>369-832-8208</td>\n      <td>Asia/Bangkok</td>\n      <td>NaN</td>\n      <td>International Buddhist College</td>\n      <td>Zava</td>\n      <td>$3.96</td>\n      <td>Wells Fargo &amp; Company</td>\n    </tr>\n    <tr>\n      <td>5</td>\n      <td>6</td>\n      <td>Manuel</td>\n      <td>Steed</td>\n      <td>msteed5@adobe.com</td>\n      <td>Male</td>\n      <td>231.12.83.20</td>\n      <td>Shashūbay</td>\n      <td>Kazakhstan</td>\n      <td>526-803-9839</td>\n      <td>Asia/Almaty</td>\n      <td>NaN</td>\n      <td>Kazak National Technical University</td>\n      <td>Einti</td>\n      <td>$0.90</td>\n      <td>General American Investors, Inc.</td>\n    </tr>\n    <tr>\n      <td>...</td>\n      <td>...</td>\n      <td>...</td>\n      <td>...</td>\n      <td>...</td>\n      <td>...</td>\n      <td>...</td>\n      <td>...</td>\n      <td>...</td>\n      <td>...</td>\n      <td>...</td>\n      <td>...</td>\n      <td>...</td>\n      <td>...</td>\n      <td>...</td>\n      <td>...</td>\n    </tr>\n    <tr>\n      <td>995</td>\n      <td>996</td>\n      <td>Brody</td>\n      <td>Rockhall</td>\n      <td>brockhallrn@vkontakte.ru</td>\n      <td>Male</td>\n      <td>170.187.46.152</td>\n      <td>Beiqiao</td>\n      <td>China</td>\n      <td>842-643-4789</td>\n      <td>Asia/Shanghai</td>\n      <td>Public Utilities</td>\n      <td>Northern Sichuan Medical College</td>\n      <td>Skajo</td>\n      <td>$5.62</td>\n      <td>Dominion Energy, Inc.</td>\n    </tr>\n    <tr>\n      <td>996</td>\n      <td>997</td>\n      <td>Laird</td>\n      <td>Moseby</td>\n      <td>lmosebyro@scientificamerican.com</td>\n      <td>Male</td>\n      <td>75.71.58.234</td>\n      <td>Turija</td>\n      <td>Serbia</td>\n      <td>841-919-1249</td>\n      <td>Europe/Belgrade</td>\n      <td>Finance</td>\n      <td>University of Kragujevac</td>\n      <td>Tagcat</td>\n      <td>$2.91</td>\n      <td>Cowen Inc.</td>\n    </tr>\n    <tr>\n      <td>997</td>\n      <td>998</td>\n      <td>Piotr</td>\n      <td>Ebbles</td>\n      <td>pebblesrp@ustream.tv</td>\n      <td>Male</td>\n      <td>92.179.241.85</td>\n      <td>Igang</td>\n      <td>Philippines</td>\n      <td>931-269-9021</td>\n      <td>Asia/Manila</td>\n      <td>Health Care</td>\n      <td>Mountain View College</td>\n      <td>Yodoo</td>\n      <td>$6.64</td>\n      <td>vTv Therapeutics Inc.</td>\n    </tr>\n    <tr>\n      <td>998</td>\n      <td>999</td>\n      <td>Sybila</td>\n      <td>Salamon</td>\n      <td>ssalamonrq@google.ru</td>\n      <td>Female</td>\n      <td>124.1.131.36</td>\n      <td>Marechal Deodoro</td>\n      <td>Brazil</td>\n      <td>112-687-9431</td>\n      <td>America/Maceio</td>\n      <td>NaN</td>\n      <td>Centro Universitário Adventista de São Paulo</td>\n      <td>Camido</td>\n      <td>$6.97</td>\n      <td>Community First Bancshares, Inc.</td>\n    </tr>\n    <tr>\n      <td>999</td>\n      <td>1000</td>\n      <td>Dulce</td>\n      <td>Annand</td>\n      <td>dannandrr@bandcamp.com</td>\n      <td>Female</td>\n      <td>145.42.248.252</td>\n      <td>Yaypan</td>\n      <td>Uzbekistan</td>\n      <td>943-449-9691</td>\n      <td>Asia/Tashkent</td>\n      <td>NaN</td>\n      <td>Tashkent Medical Academy</td>\n      <td>Chatterpoint</td>\n      <td>$8.37</td>\n      <td>Voya International High Dividend Equity Income...</td>\n    </tr>\n  </tbody>\n</table>\n<p>978 rows × 15 columns</p>\n</div>",
      "text/plain": "       id  first_name  last_name                             email  gender  \\\n1       2        Bale     Defont         bdefont1@biblegateway.com    Male   \n2       3       Paula     Orrell                  porrell2@nih.gov  Female   \n3       4  Kristopher  Mulchrone         kmulchrone3@posterous.com    Male   \n4       5      Traver    Marland               tmarland4@about.com    Male   \n5       6      Manuel      Steed                 msteed5@adobe.com    Male   \n..    ...         ...        ...                               ...     ...   \n995   996       Brody   Rockhall          brockhallrn@vkontakte.ru    Male   \n996   997       Laird     Moseby  lmosebyro@scientificamerican.com    Male   \n997   998       Piotr     Ebbles              pebblesrp@ustream.tv    Male   \n998   999      Sybila    Salamon              ssalamonrq@google.ru  Female   \n999  1000       Dulce     Annand            dannandrr@bandcamp.com  Female   \n\n         ip_address              city        country         phone  \\\n1     213.198.46.35          Paris 01         France  262-426-2235   \n2     12.73.137.140        Olafulihaa      Indonesia  534-284-1417   \n3     177.30.62.230           Chicago  United States  773-237-4393   \n4    221.191.58.184       Bang Lamung       Thailand  369-832-8208   \n5      231.12.83.20         Shashūbay     Kazakhstan  526-803-9839   \n..              ...               ...            ...           ...   \n995  170.187.46.152           Beiqiao          China  842-643-4789   \n996    75.71.58.234            Turija         Serbia  841-919-1249   \n997   92.179.241.85             Igang    Philippines  931-269-9021   \n998    124.1.131.36  Marechal Deodoro         Brazil  112-687-9431   \n999  145.42.248.252            Yaypan     Uzbekistan  943-449-9691   \n\n           time-zone             sector  \\\n1       Europe/Paris             Energy   \n2      Asia/Makassar  Consumer Services   \n3    America/Chicago                NaN   \n4       Asia/Bangkok                NaN   \n5        Asia/Almaty                NaN   \n..               ...                ...   \n995    Asia/Shanghai   Public Utilities   \n996  Europe/Belgrade            Finance   \n997      Asia/Manila        Health Care   \n998   America/Maceio                NaN   \n999    Asia/Tashkent                NaN   \n\n                                            university       company  money  \\\n1    IDRAC (Institut de recherche en action commerc...     Skipstorm  $8.09   \n2                     Universitas Atma Jaya Yogyakarta         Eidel  $9.01   \n3    California School of Professional Psychology -...         LiveZ  $4.38   \n4                       International Buddhist College          Zava  $3.96   \n5                  Kazak National Technical University         Einti  $0.90   \n..                                                 ...           ...    ...   \n995                   Northern Sichuan Medical College         Skajo  $5.62   \n996                           University of Kragujevac        Tagcat  $2.91   \n997                              Mountain View College         Yodoo  $6.64   \n998       Centro Universitário Adventista de São Paulo        Camido  $6.97   \n999                           Tashkent Medical Academy  Chatterpoint  $8.37   \n\n                                            stock-name  \n1                          Range Resources Corporation  \n2                            Ferrellgas Partners, L.P.  \n3                         Putnam High Income Bond Fund  \n4                                Wells Fargo & Company  \n5                     General American Investors, Inc.  \n..                                                 ...  \n995                              Dominion Energy, Inc.  \n996                                         Cowen Inc.  \n997                              vTv Therapeutics Inc.  \n998                   Community First Bancshares, Inc.  \n999  Voya International High Dividend Equity Income...  \n\n[978 rows x 15 columns]"
     },
     "execution_count": 40,
     "metadata": {},
     "output_type": "execute_result"
    }
   ],
   "execution_count": 40
  },
  {
   "cell_type": "code",
   "metadata": {
    "scrolled": true,
    "cell_id": "00036-f046e35d-bc40-43fc-90b0-3a2af51f1cf9",
    "deepnote_output_heights": [
     611
    ],
    "deepnote_cell_type": "code"
   },
   "source": "countries = ['Colombia','Canada','Peru']\ncountry = dfi['country'].isin(countries)\ndfi.loc[country,['last_name','first_name','country']]",
   "outputs": [
    {
     "data": {
      "text/html": "<div>\n<style scoped>\n    .dataframe tbody tr th:only-of-type {\n        vertical-align: middle;\n    }\n\n    .dataframe tbody tr th {\n        vertical-align: top;\n    }\n\n    .dataframe thead th {\n        text-align: right;\n    }\n</style>\n<table border=\"1\" class=\"dataframe\">\n  <thead>\n    <tr style=\"text-align: right;\">\n      <th></th>\n      <th>last_name</th>\n      <th>first_name</th>\n      <th>country</th>\n    </tr>\n  </thead>\n  <tbody>\n    <tr>\n      <td>16</td>\n      <td>Gleaves</td>\n      <td>Anatollo</td>\n      <td>Peru</td>\n    </tr>\n    <tr>\n      <td>88</td>\n      <td>Middleton</td>\n      <td>Oneida</td>\n      <td>Colombia</td>\n    </tr>\n    <tr>\n      <td>135</td>\n      <td>Colwell</td>\n      <td>Manuel</td>\n      <td>Peru</td>\n    </tr>\n    <tr>\n      <td>163</td>\n      <td>Biddleston</td>\n      <td>Charisse</td>\n      <td>Peru</td>\n    </tr>\n    <tr>\n      <td>238</td>\n      <td>Batham</td>\n      <td>Jori</td>\n      <td>Peru</td>\n    </tr>\n    <tr>\n      <td>242</td>\n      <td>Rodolf</td>\n      <td>Frazer</td>\n      <td>Colombia</td>\n    </tr>\n    <tr>\n      <td>255</td>\n      <td>Semken</td>\n      <td>Selma</td>\n      <td>Canada</td>\n    </tr>\n    <tr>\n      <td>308</td>\n      <td>Jinks</td>\n      <td>Oates</td>\n      <td>Canada</td>\n    </tr>\n    <tr>\n      <td>371</td>\n      <td>Bartoszewicz</td>\n      <td>Brew</td>\n      <td>Canada</td>\n    </tr>\n    <tr>\n      <td>375</td>\n      <td>Twitty</td>\n      <td>Leland</td>\n      <td>Peru</td>\n    </tr>\n    <tr>\n      <td>382</td>\n      <td>Quartermaine</td>\n      <td>Edward</td>\n      <td>Colombia</td>\n    </tr>\n    <tr>\n      <td>410</td>\n      <td>Blinckhorne</td>\n      <td>Lizzie</td>\n      <td>Canada</td>\n    </tr>\n    <tr>\n      <td>431</td>\n      <td>Josovich</td>\n      <td>Erda</td>\n      <td>Canada</td>\n    </tr>\n    <tr>\n      <td>463</td>\n      <td>Siward</td>\n      <td>Shurlocke</td>\n      <td>Colombia</td>\n    </tr>\n    <tr>\n      <td>487</td>\n      <td>Nossent</td>\n      <td>Avram</td>\n      <td>Canada</td>\n    </tr>\n    <tr>\n      <td>495</td>\n      <td>Strauss</td>\n      <td>Sophia</td>\n      <td>Peru</td>\n    </tr>\n    <tr>\n      <td>511</td>\n      <td>Vinall</td>\n      <td>Art</td>\n      <td>Colombia</td>\n    </tr>\n    <tr>\n      <td>516</td>\n      <td>Ilyunin</td>\n      <td>Constantin</td>\n      <td>Canada</td>\n    </tr>\n    <tr>\n      <td>560</td>\n      <td>Mallock</td>\n      <td>Darci</td>\n      <td>Colombia</td>\n    </tr>\n    <tr>\n      <td>595</td>\n      <td>Monaghan</td>\n      <td>Bettina</td>\n      <td>Colombia</td>\n    </tr>\n    <tr>\n      <td>605</td>\n      <td>Desmond</td>\n      <td>Gerri</td>\n      <td>Peru</td>\n    </tr>\n    <tr>\n      <td>611</td>\n      <td>Reford</td>\n      <td>Addison</td>\n      <td>Colombia</td>\n    </tr>\n    <tr>\n      <td>632</td>\n      <td>Burwood</td>\n      <td>Derrik</td>\n      <td>Colombia</td>\n    </tr>\n    <tr>\n      <td>633</td>\n      <td>Lehrer</td>\n      <td>Hedvig</td>\n      <td>Colombia</td>\n    </tr>\n    <tr>\n      <td>693</td>\n      <td>MacDonnell</td>\n      <td>Antonia</td>\n      <td>Peru</td>\n    </tr>\n    <tr>\n      <td>716</td>\n      <td>Hatchard</td>\n      <td>Debra</td>\n      <td>Peru</td>\n    </tr>\n    <tr>\n      <td>720</td>\n      <td>Keeble</td>\n      <td>Gasparo</td>\n      <td>Peru</td>\n    </tr>\n    <tr>\n      <td>757</td>\n      <td>Hebron</td>\n      <td>Stefania</td>\n      <td>Canada</td>\n    </tr>\n    <tr>\n      <td>778</td>\n      <td>Taillard</td>\n      <td>Annette</td>\n      <td>Colombia</td>\n    </tr>\n    <tr>\n      <td>785</td>\n      <td>Savell</td>\n      <td>Shaylah</td>\n      <td>Canada</td>\n    </tr>\n    <tr>\n      <td>810</td>\n      <td>Curneen</td>\n      <td>Wynne</td>\n      <td>Canada</td>\n    </tr>\n    <tr>\n      <td>906</td>\n      <td>Anstead</td>\n      <td>Nicolina</td>\n      <td>Colombia</td>\n    </tr>\n    <tr>\n      <td>957</td>\n      <td>Lilbourne</td>\n      <td>Victor</td>\n      <td>Canada</td>\n    </tr>\n  </tbody>\n</table>\n</div>",
      "text/plain": "        last_name  first_name   country\n16        Gleaves    Anatollo      Peru\n88      Middleton      Oneida  Colombia\n135       Colwell      Manuel      Peru\n163    Biddleston    Charisse      Peru\n238        Batham        Jori      Peru\n242        Rodolf      Frazer  Colombia\n255        Semken       Selma    Canada\n308         Jinks       Oates    Canada\n371  Bartoszewicz        Brew    Canada\n375        Twitty      Leland      Peru\n382  Quartermaine      Edward  Colombia\n410   Blinckhorne      Lizzie    Canada\n431      Josovich        Erda    Canada\n463        Siward   Shurlocke  Colombia\n487       Nossent       Avram    Canada\n495       Strauss      Sophia      Peru\n511        Vinall         Art  Colombia\n516       Ilyunin  Constantin    Canada\n560       Mallock       Darci  Colombia\n595      Monaghan     Bettina  Colombia\n605       Desmond       Gerri      Peru\n611        Reford     Addison  Colombia\n632       Burwood      Derrik  Colombia\n633        Lehrer      Hedvig  Colombia\n693    MacDonnell     Antonia      Peru\n716      Hatchard       Debra      Peru\n720        Keeble     Gasparo      Peru\n757        Hebron    Stefania    Canada\n778      Taillard     Annette  Colombia\n785        Savell     Shaylah    Canada\n810       Curneen       Wynne    Canada\n906       Anstead    Nicolina  Colombia\n957     Lilbourne      Victor    Canada"
     },
     "execution_count": 41,
     "metadata": {},
     "output_type": "execute_result"
    }
   ],
   "execution_count": 41
  },
  {
   "cell_type": "code",
   "metadata": {
    "cell_id": "00037-b0f77b59-8383-4911-851c-498b515c61d7",
    "deepnote_output_heights": [
     119
    ],
    "deepnote_cell_type": "code"
   },
   "source": "zone = dfi['time-zone'].str.contains('Berlin',na=False)\ndfi.loc[zone,['country','time-zone']]",
   "outputs": [
    {
     "data": {
      "text/html": "<div>\n<style scoped>\n    .dataframe tbody tr th:only-of-type {\n        vertical-align: middle;\n    }\n\n    .dataframe tbody tr th {\n        vertical-align: top;\n    }\n\n    .dataframe thead th {\n        text-align: right;\n    }\n</style>\n<table border=\"1\" class=\"dataframe\">\n  <thead>\n    <tr style=\"text-align: right;\">\n      <th></th>\n      <th>country</th>\n      <th>time-zone</th>\n    </tr>\n  </thead>\n  <tbody>\n    <tr>\n      <td>184</td>\n      <td>Czech Republic</td>\n      <td>Europe/Berlin</td>\n    </tr>\n    <tr>\n      <td>702</td>\n      <td>Germany</td>\n      <td>Europe/Berlin</td>\n    </tr>\n    <tr>\n      <td>931</td>\n      <td>Germany</td>\n      <td>Europe/Berlin</td>\n    </tr>\n  </tbody>\n</table>\n</div>",
      "text/plain": "            country      time-zone\n184  Czech Republic  Europe/Berlin\n702         Germany  Europe/Berlin\n931         Germany  Europe/Berlin"
     },
     "execution_count": 42,
     "metadata": {},
     "output_type": "execute_result"
    }
   ],
   "execution_count": 42
  },
  {
   "cell_type": "code",
   "metadata": {
    "scrolled": true,
    "cell_id": "00038-a8e8d6cf-3743-4a0f-a91a-9998fdc393f7",
    "deepnote_output_heights": [
     382.1875
    ],
    "deepnote_cell_type": "code"
   },
   "source": "dfi",
   "outputs": [
    {
     "data": {
      "text/html": "<div>\n<style scoped>\n    .dataframe tbody tr th:only-of-type {\n        vertical-align: middle;\n    }\n\n    .dataframe tbody tr th {\n        vertical-align: top;\n    }\n\n    .dataframe thead th {\n        text-align: right;\n    }\n</style>\n<table border=\"1\" class=\"dataframe\">\n  <thead>\n    <tr style=\"text-align: right;\">\n      <th></th>\n      <th>id</th>\n      <th>first_name</th>\n      <th>last_name</th>\n      <th>email</th>\n      <th>gender</th>\n      <th>ip_address</th>\n      <th>city</th>\n      <th>country</th>\n      <th>phone</th>\n      <th>time-zone</th>\n      <th>sector</th>\n      <th>university</th>\n      <th>company</th>\n      <th>money</th>\n      <th>stock-name</th>\n    </tr>\n  </thead>\n  <tbody>\n    <tr>\n      <td>0</td>\n      <td>1</td>\n      <td>Nicol</td>\n      <td>Gontier</td>\n      <td>ngontier0@moonfruit.com</td>\n      <td>Male</td>\n      <td>14.6.133.124</td>\n      <td>Jiangnan</td>\n      <td>China</td>\n      <td>582-277-7571</td>\n      <td>Asia/Shanghai</td>\n      <td>Finance</td>\n      <td>Shanghai Institue of Foreign Trade</td>\n      <td>Twinder</td>\n      <td>$2.24</td>\n      <td>AmeriServ Financial Inc.</td>\n    </tr>\n    <tr>\n      <td>1</td>\n      <td>2</td>\n      <td>Bale</td>\n      <td>Defont</td>\n      <td>bdefont1@biblegateway.com</td>\n      <td>Male</td>\n      <td>213.198.46.35</td>\n      <td>Paris 01</td>\n      <td>France</td>\n      <td>262-426-2235</td>\n      <td>Europe/Paris</td>\n      <td>Energy</td>\n      <td>IDRAC (Institut de recherche en action commerc...</td>\n      <td>Skipstorm</td>\n      <td>$8.09</td>\n      <td>Range Resources Corporation</td>\n    </tr>\n    <tr>\n      <td>2</td>\n      <td>3</td>\n      <td>Paula</td>\n      <td>Orrell</td>\n      <td>porrell2@nih.gov</td>\n      <td>Female</td>\n      <td>12.73.137.140</td>\n      <td>Olafulihaa</td>\n      <td>Indonesia</td>\n      <td>534-284-1417</td>\n      <td>Asia/Makassar</td>\n      <td>Consumer Services</td>\n      <td>Universitas Atma Jaya Yogyakarta</td>\n      <td>Eidel</td>\n      <td>$9.01</td>\n      <td>Ferrellgas Partners, L.P.</td>\n    </tr>\n    <tr>\n      <td>3</td>\n      <td>4</td>\n      <td>Kristopher</td>\n      <td>Mulchrone</td>\n      <td>kmulchrone3@posterous.com</td>\n      <td>Male</td>\n      <td>177.30.62.230</td>\n      <td>Chicago</td>\n      <td>United States</td>\n      <td>773-237-4393</td>\n      <td>America/Chicago</td>\n      <td>NaN</td>\n      <td>California School of Professional Psychology -...</td>\n      <td>LiveZ</td>\n      <td>$4.38</td>\n      <td>Putnam High Income Bond Fund</td>\n    </tr>\n    <tr>\n      <td>4</td>\n      <td>5</td>\n      <td>Traver</td>\n      <td>Marland</td>\n      <td>tmarland4@about.com</td>\n      <td>Male</td>\n      <td>221.191.58.184</td>\n      <td>Bang Lamung</td>\n      <td>Thailand</td>\n      <td>369-832-8208</td>\n      <td>Asia/Bangkok</td>\n      <td>NaN</td>\n      <td>International Buddhist College</td>\n      <td>Zava</td>\n      <td>$3.96</td>\n      <td>Wells Fargo &amp; Company</td>\n    </tr>\n    <tr>\n      <td>...</td>\n      <td>...</td>\n      <td>...</td>\n      <td>...</td>\n      <td>...</td>\n      <td>...</td>\n      <td>...</td>\n      <td>...</td>\n      <td>...</td>\n      <td>...</td>\n      <td>...</td>\n      <td>...</td>\n      <td>...</td>\n      <td>...</td>\n      <td>...</td>\n      <td>...</td>\n    </tr>\n    <tr>\n      <td>995</td>\n      <td>996</td>\n      <td>Brody</td>\n      <td>Rockhall</td>\n      <td>brockhallrn@vkontakte.ru</td>\n      <td>Male</td>\n      <td>170.187.46.152</td>\n      <td>Beiqiao</td>\n      <td>China</td>\n      <td>842-643-4789</td>\n      <td>Asia/Shanghai</td>\n      <td>Public Utilities</td>\n      <td>Northern Sichuan Medical College</td>\n      <td>Skajo</td>\n      <td>$5.62</td>\n      <td>Dominion Energy, Inc.</td>\n    </tr>\n    <tr>\n      <td>996</td>\n      <td>997</td>\n      <td>Laird</td>\n      <td>Moseby</td>\n      <td>lmosebyro@scientificamerican.com</td>\n      <td>Male</td>\n      <td>75.71.58.234</td>\n      <td>Turija</td>\n      <td>Serbia</td>\n      <td>841-919-1249</td>\n      <td>Europe/Belgrade</td>\n      <td>Finance</td>\n      <td>University of Kragujevac</td>\n      <td>Tagcat</td>\n      <td>$2.91</td>\n      <td>Cowen Inc.</td>\n    </tr>\n    <tr>\n      <td>997</td>\n      <td>998</td>\n      <td>Piotr</td>\n      <td>Ebbles</td>\n      <td>pebblesrp@ustream.tv</td>\n      <td>Male</td>\n      <td>92.179.241.85</td>\n      <td>Igang</td>\n      <td>Philippines</td>\n      <td>931-269-9021</td>\n      <td>Asia/Manila</td>\n      <td>Health Care</td>\n      <td>Mountain View College</td>\n      <td>Yodoo</td>\n      <td>$6.64</td>\n      <td>vTv Therapeutics Inc.</td>\n    </tr>\n    <tr>\n      <td>998</td>\n      <td>999</td>\n      <td>Sybila</td>\n      <td>Salamon</td>\n      <td>ssalamonrq@google.ru</td>\n      <td>Female</td>\n      <td>124.1.131.36</td>\n      <td>Marechal Deodoro</td>\n      <td>Brazil</td>\n      <td>112-687-9431</td>\n      <td>America/Maceio</td>\n      <td>NaN</td>\n      <td>Centro Universitário Adventista de São Paulo</td>\n      <td>Camido</td>\n      <td>$6.97</td>\n      <td>Community First Bancshares, Inc.</td>\n    </tr>\n    <tr>\n      <td>999</td>\n      <td>1000</td>\n      <td>Dulce</td>\n      <td>Annand</td>\n      <td>dannandrr@bandcamp.com</td>\n      <td>Female</td>\n      <td>145.42.248.252</td>\n      <td>Yaypan</td>\n      <td>Uzbekistan</td>\n      <td>943-449-9691</td>\n      <td>Asia/Tashkent</td>\n      <td>NaN</td>\n      <td>Tashkent Medical Academy</td>\n      <td>Chatterpoint</td>\n      <td>$8.37</td>\n      <td>Voya International High Dividend Equity Income...</td>\n    </tr>\n  </tbody>\n</table>\n<p>1000 rows × 15 columns</p>\n</div>",
      "text/plain": "       id  first_name  last_name                             email  gender  \\\n0       1       Nicol    Gontier           ngontier0@moonfruit.com    Male   \n1       2        Bale     Defont         bdefont1@biblegateway.com    Male   \n2       3       Paula     Orrell                  porrell2@nih.gov  Female   \n3       4  Kristopher  Mulchrone         kmulchrone3@posterous.com    Male   \n4       5      Traver    Marland               tmarland4@about.com    Male   \n..    ...         ...        ...                               ...     ...   \n995   996       Brody   Rockhall          brockhallrn@vkontakte.ru    Male   \n996   997       Laird     Moseby  lmosebyro@scientificamerican.com    Male   \n997   998       Piotr     Ebbles              pebblesrp@ustream.tv    Male   \n998   999      Sybila    Salamon              ssalamonrq@google.ru  Female   \n999  1000       Dulce     Annand            dannandrr@bandcamp.com  Female   \n\n         ip_address              city        country         phone  \\\n0      14.6.133.124          Jiangnan          China  582-277-7571   \n1     213.198.46.35          Paris 01         France  262-426-2235   \n2     12.73.137.140        Olafulihaa      Indonesia  534-284-1417   \n3     177.30.62.230           Chicago  United States  773-237-4393   \n4    221.191.58.184       Bang Lamung       Thailand  369-832-8208   \n..              ...               ...            ...           ...   \n995  170.187.46.152           Beiqiao          China  842-643-4789   \n996    75.71.58.234            Turija         Serbia  841-919-1249   \n997   92.179.241.85             Igang    Philippines  931-269-9021   \n998    124.1.131.36  Marechal Deodoro         Brazil  112-687-9431   \n999  145.42.248.252            Yaypan     Uzbekistan  943-449-9691   \n\n           time-zone             sector  \\\n0      Asia/Shanghai            Finance   \n1       Europe/Paris             Energy   \n2      Asia/Makassar  Consumer Services   \n3    America/Chicago                NaN   \n4       Asia/Bangkok                NaN   \n..               ...                ...   \n995    Asia/Shanghai   Public Utilities   \n996  Europe/Belgrade            Finance   \n997      Asia/Manila        Health Care   \n998   America/Maceio                NaN   \n999    Asia/Tashkent                NaN   \n\n                                            university       company  money  \\\n0                   Shanghai Institue of Foreign Trade       Twinder  $2.24   \n1    IDRAC (Institut de recherche en action commerc...     Skipstorm  $8.09   \n2                     Universitas Atma Jaya Yogyakarta         Eidel  $9.01   \n3    California School of Professional Psychology -...         LiveZ  $4.38   \n4                       International Buddhist College          Zava  $3.96   \n..                                                 ...           ...    ...   \n995                   Northern Sichuan Medical College         Skajo  $5.62   \n996                           University of Kragujevac        Tagcat  $2.91   \n997                              Mountain View College         Yodoo  $6.64   \n998       Centro Universitário Adventista de São Paulo        Camido  $6.97   \n999                           Tashkent Medical Academy  Chatterpoint  $8.37   \n\n                                            stock-name  \n0                             AmeriServ Financial Inc.  \n1                          Range Resources Corporation  \n2                            Ferrellgas Partners, L.P.  \n3                         Putnam High Income Bond Fund  \n4                                Wells Fargo & Company  \n..                                                 ...  \n995                              Dominion Energy, Inc.  \n996                                         Cowen Inc.  \n997                              vTv Therapeutics Inc.  \n998                   Community First Bancshares, Inc.  \n999  Voya International High Dividend Equity Income...  \n\n[1000 rows x 15 columns]"
     },
     "execution_count": 44,
     "metadata": {},
     "output_type": "execute_result"
    }
   ],
   "execution_count": 44
  },
  {
   "cell_type": "code",
   "metadata": {
    "cell_id": "00039-1b7e13d8-47bd-4da6-a8b8-ad25c98b67d9",
    "deepnote_cell_type": "code"
   },
   "source": "dfi['concatena'] = dfi['time-zone'] + ' ' + dfi['country']",
   "outputs": [],
   "execution_count": 47
  },
  {
   "cell_type": "code",
   "metadata": {
    "cell_id": "00040-a3688292-eed3-423c-9c17-a7cd9753d63a",
    "deepnote_output_heights": [
     232.25
    ],
    "deepnote_cell_type": "code"
   },
   "source": "dfi['concatena']",
   "outputs": [
    {
     "data": {
      "text/plain": "0                Asia/Shanghai China\n1                Europe/Paris France\n2            Asia/Makassar Indonesia\n3      America/Chicago United States\n4              Asia/Bangkok Thailand\n                   ...              \n995              Asia/Shanghai China\n996           Europe/Belgrade Serbia\n997          Asia/Manila Philippines\n998            America/Maceio Brazil\n999         Asia/Tashkent Uzbekistan\nName: concatena, Length: 1000, dtype: object"
     },
     "execution_count": 49,
     "metadata": {},
     "output_type": "execute_result"
    }
   ],
   "execution_count": 49
  },
  {
   "cell_type": "code",
   "metadata": {
    "cell_id": "00041-69a031ca-f6c9-49b3-866f-e470b50eddd5",
    "deepnote_cell_type": "code"
   },
   "source": "dfi.drop(columns=['first_name','last_name'], inplace=True)",
   "outputs": [],
   "execution_count": 50
  },
  {
   "cell_type": "code",
   "metadata": {
    "cell_id": "00042-806eeeba-8dcf-4162-b788-01a4cacb8747",
    "deepnote_output_heights": [
     382.1875
    ],
    "deepnote_cell_type": "code"
   },
   "source": "dfi",
   "outputs": [
    {
     "data": {
      "text/html": "<div>\n<style scoped>\n    .dataframe tbody tr th:only-of-type {\n        vertical-align: middle;\n    }\n\n    .dataframe tbody tr th {\n        vertical-align: top;\n    }\n\n    .dataframe thead th {\n        text-align: right;\n    }\n</style>\n<table border=\"1\" class=\"dataframe\">\n  <thead>\n    <tr style=\"text-align: right;\">\n      <th></th>\n      <th>id</th>\n      <th>email</th>\n      <th>gender</th>\n      <th>ip_address</th>\n      <th>city</th>\n      <th>country</th>\n      <th>phone</th>\n      <th>time-zone</th>\n      <th>sector</th>\n      <th>university</th>\n      <th>company</th>\n      <th>money</th>\n      <th>stock-name</th>\n      <th>concatena</th>\n    </tr>\n  </thead>\n  <tbody>\n    <tr>\n      <td>0</td>\n      <td>1</td>\n      <td>ngontier0@moonfruit.com</td>\n      <td>Male</td>\n      <td>14.6.133.124</td>\n      <td>Jiangnan</td>\n      <td>China</td>\n      <td>582-277-7571</td>\n      <td>Asia/Shanghai</td>\n      <td>Finance</td>\n      <td>Shanghai Institue of Foreign Trade</td>\n      <td>Twinder</td>\n      <td>$2.24</td>\n      <td>AmeriServ Financial Inc.</td>\n      <td>Asia/Shanghai China</td>\n    </tr>\n    <tr>\n      <td>1</td>\n      <td>2</td>\n      <td>bdefont1@biblegateway.com</td>\n      <td>Male</td>\n      <td>213.198.46.35</td>\n      <td>Paris 01</td>\n      <td>France</td>\n      <td>262-426-2235</td>\n      <td>Europe/Paris</td>\n      <td>Energy</td>\n      <td>IDRAC (Institut de recherche en action commerc...</td>\n      <td>Skipstorm</td>\n      <td>$8.09</td>\n      <td>Range Resources Corporation</td>\n      <td>Europe/Paris France</td>\n    </tr>\n    <tr>\n      <td>2</td>\n      <td>3</td>\n      <td>porrell2@nih.gov</td>\n      <td>Female</td>\n      <td>12.73.137.140</td>\n      <td>Olafulihaa</td>\n      <td>Indonesia</td>\n      <td>534-284-1417</td>\n      <td>Asia/Makassar</td>\n      <td>Consumer Services</td>\n      <td>Universitas Atma Jaya Yogyakarta</td>\n      <td>Eidel</td>\n      <td>$9.01</td>\n      <td>Ferrellgas Partners, L.P.</td>\n      <td>Asia/Makassar Indonesia</td>\n    </tr>\n    <tr>\n      <td>3</td>\n      <td>4</td>\n      <td>kmulchrone3@posterous.com</td>\n      <td>Male</td>\n      <td>177.30.62.230</td>\n      <td>Chicago</td>\n      <td>United States</td>\n      <td>773-237-4393</td>\n      <td>America/Chicago</td>\n      <td>NaN</td>\n      <td>California School of Professional Psychology -...</td>\n      <td>LiveZ</td>\n      <td>$4.38</td>\n      <td>Putnam High Income Bond Fund</td>\n      <td>America/Chicago United States</td>\n    </tr>\n    <tr>\n      <td>4</td>\n      <td>5</td>\n      <td>tmarland4@about.com</td>\n      <td>Male</td>\n      <td>221.191.58.184</td>\n      <td>Bang Lamung</td>\n      <td>Thailand</td>\n      <td>369-832-8208</td>\n      <td>Asia/Bangkok</td>\n      <td>NaN</td>\n      <td>International Buddhist College</td>\n      <td>Zava</td>\n      <td>$3.96</td>\n      <td>Wells Fargo &amp; Company</td>\n      <td>Asia/Bangkok Thailand</td>\n    </tr>\n    <tr>\n      <td>...</td>\n      <td>...</td>\n      <td>...</td>\n      <td>...</td>\n      <td>...</td>\n      <td>...</td>\n      <td>...</td>\n      <td>...</td>\n      <td>...</td>\n      <td>...</td>\n      <td>...</td>\n      <td>...</td>\n      <td>...</td>\n      <td>...</td>\n      <td>...</td>\n    </tr>\n    <tr>\n      <td>995</td>\n      <td>996</td>\n      <td>brockhallrn@vkontakte.ru</td>\n      <td>Male</td>\n      <td>170.187.46.152</td>\n      <td>Beiqiao</td>\n      <td>China</td>\n      <td>842-643-4789</td>\n      <td>Asia/Shanghai</td>\n      <td>Public Utilities</td>\n      <td>Northern Sichuan Medical College</td>\n      <td>Skajo</td>\n      <td>$5.62</td>\n      <td>Dominion Energy, Inc.</td>\n      <td>Asia/Shanghai China</td>\n    </tr>\n    <tr>\n      <td>996</td>\n      <td>997</td>\n      <td>lmosebyro@scientificamerican.com</td>\n      <td>Male</td>\n      <td>75.71.58.234</td>\n      <td>Turija</td>\n      <td>Serbia</td>\n      <td>841-919-1249</td>\n      <td>Europe/Belgrade</td>\n      <td>Finance</td>\n      <td>University of Kragujevac</td>\n      <td>Tagcat</td>\n      <td>$2.91</td>\n      <td>Cowen Inc.</td>\n      <td>Europe/Belgrade Serbia</td>\n    </tr>\n    <tr>\n      <td>997</td>\n      <td>998</td>\n      <td>pebblesrp@ustream.tv</td>\n      <td>Male</td>\n      <td>92.179.241.85</td>\n      <td>Igang</td>\n      <td>Philippines</td>\n      <td>931-269-9021</td>\n      <td>Asia/Manila</td>\n      <td>Health Care</td>\n      <td>Mountain View College</td>\n      <td>Yodoo</td>\n      <td>$6.64</td>\n      <td>vTv Therapeutics Inc.</td>\n      <td>Asia/Manila Philippines</td>\n    </tr>\n    <tr>\n      <td>998</td>\n      <td>999</td>\n      <td>ssalamonrq@google.ru</td>\n      <td>Female</td>\n      <td>124.1.131.36</td>\n      <td>Marechal Deodoro</td>\n      <td>Brazil</td>\n      <td>112-687-9431</td>\n      <td>America/Maceio</td>\n      <td>NaN</td>\n      <td>Centro Universitário Adventista de São Paulo</td>\n      <td>Camido</td>\n      <td>$6.97</td>\n      <td>Community First Bancshares, Inc.</td>\n      <td>America/Maceio Brazil</td>\n    </tr>\n    <tr>\n      <td>999</td>\n      <td>1000</td>\n      <td>dannandrr@bandcamp.com</td>\n      <td>Female</td>\n      <td>145.42.248.252</td>\n      <td>Yaypan</td>\n      <td>Uzbekistan</td>\n      <td>943-449-9691</td>\n      <td>Asia/Tashkent</td>\n      <td>NaN</td>\n      <td>Tashkent Medical Academy</td>\n      <td>Chatterpoint</td>\n      <td>$8.37</td>\n      <td>Voya International High Dividend Equity Income...</td>\n      <td>Asia/Tashkent Uzbekistan</td>\n    </tr>\n  </tbody>\n</table>\n<p>1000 rows × 14 columns</p>\n</div>",
      "text/plain": "       id                             email  gender      ip_address  \\\n0       1           ngontier0@moonfruit.com    Male    14.6.133.124   \n1       2         bdefont1@biblegateway.com    Male   213.198.46.35   \n2       3                  porrell2@nih.gov  Female   12.73.137.140   \n3       4         kmulchrone3@posterous.com    Male   177.30.62.230   \n4       5               tmarland4@about.com    Male  221.191.58.184   \n..    ...                               ...     ...             ...   \n995   996          brockhallrn@vkontakte.ru    Male  170.187.46.152   \n996   997  lmosebyro@scientificamerican.com    Male    75.71.58.234   \n997   998              pebblesrp@ustream.tv    Male   92.179.241.85   \n998   999              ssalamonrq@google.ru  Female    124.1.131.36   \n999  1000            dannandrr@bandcamp.com  Female  145.42.248.252   \n\n                 city        country         phone        time-zone  \\\n0            Jiangnan          China  582-277-7571    Asia/Shanghai   \n1            Paris 01         France  262-426-2235     Europe/Paris   \n2          Olafulihaa      Indonesia  534-284-1417    Asia/Makassar   \n3             Chicago  United States  773-237-4393  America/Chicago   \n4         Bang Lamung       Thailand  369-832-8208     Asia/Bangkok   \n..                ...            ...           ...              ...   \n995           Beiqiao          China  842-643-4789    Asia/Shanghai   \n996            Turija         Serbia  841-919-1249  Europe/Belgrade   \n997             Igang    Philippines  931-269-9021      Asia/Manila   \n998  Marechal Deodoro         Brazil  112-687-9431   America/Maceio   \n999            Yaypan     Uzbekistan  943-449-9691    Asia/Tashkent   \n\n                sector                                         university  \\\n0              Finance                 Shanghai Institue of Foreign Trade   \n1               Energy  IDRAC (Institut de recherche en action commerc...   \n2    Consumer Services                   Universitas Atma Jaya Yogyakarta   \n3                  NaN  California School of Professional Psychology -...   \n4                  NaN                     International Buddhist College   \n..                 ...                                                ...   \n995   Public Utilities                   Northern Sichuan Medical College   \n996            Finance                           University of Kragujevac   \n997        Health Care                              Mountain View College   \n998                NaN       Centro Universitário Adventista de São Paulo   \n999                NaN                           Tashkent Medical Academy   \n\n          company  money                                         stock-name  \\\n0         Twinder  $2.24                           AmeriServ Financial Inc.   \n1       Skipstorm  $8.09                        Range Resources Corporation   \n2           Eidel  $9.01                          Ferrellgas Partners, L.P.   \n3           LiveZ  $4.38                       Putnam High Income Bond Fund   \n4            Zava  $3.96                              Wells Fargo & Company   \n..            ...    ...                                                ...   \n995         Skajo  $5.62                              Dominion Energy, Inc.   \n996        Tagcat  $2.91                                         Cowen Inc.   \n997         Yodoo  $6.64                              vTv Therapeutics Inc.   \n998        Camido  $6.97                   Community First Bancshares, Inc.   \n999  Chatterpoint  $8.37  Voya International High Dividend Equity Income...   \n\n                         concatena  \n0              Asia/Shanghai China  \n1              Europe/Paris France  \n2          Asia/Makassar Indonesia  \n3    America/Chicago United States  \n4            Asia/Bangkok Thailand  \n..                             ...  \n995            Asia/Shanghai China  \n996         Europe/Belgrade Serbia  \n997        Asia/Manila Philippines  \n998          America/Maceio Brazil  \n999       Asia/Tashkent Uzbekistan  \n\n[1000 rows x 14 columns]"
     },
     "execution_count": 51,
     "metadata": {},
     "output_type": "execute_result"
    }
   ],
   "execution_count": 51
  },
  {
   "cell_type": "code",
   "metadata": {
    "cell_id": "00043-c07505e4-5ad8-4ebd-8d8b-fae70a43d0bf",
    "deepnote_cell_type": "code"
   },
   "source": "",
   "outputs": [],
   "execution_count": null
  },
  {
   "cell_type": "markdown",
   "source": "<a style='text-decoration:none;line-height:16px;display:flex;color:#5B5B62;padding:10px;justify-content:end;' href='https://deepnote.com?utm_source=created-in-deepnote-cell&projectId=050c424d-4808-417f-bf01-ddcec3324e7b' target=\"_blank\">\n<img alt='Created in deepnote.com' style='display:inline;max-height:16px;margin:0px;margin-right:7.5px;' src='data:image/svg+xml;base64,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' > </img>\nCreated in <span style='font-weight:600;margin-left:4px;'>Deepnote</span></a>",
   "metadata": {
    "tags": [],
    "created_in_deepnote_cell": true,
    "deepnote_cell_type": "markdown"
   }
  }
 ],
 "nbformat": 4,
 "nbformat_minor": 2,
 "metadata": {
  "kernelspec": {
   "display_name": "Python 3",
   "language": "python",
   "name": "python3"
  },
  "language_info": {
   "codemirror_mode": {
    "name": "ipython",
    "version": 3
   },
   "file_extension": ".py",
   "mimetype": "text/x-python",
   "name": "python",
   "nbconvert_exporter": "python",
   "pygments_lexer": "ipython3",
   "version": "3.7.4"
  },
  "deepnote_notebook_id": "deff09a1-5bac-4abd-85eb-b239cd023f69",
  "deepnote": {},
  "deepnote_execution_queue": []
 }
}