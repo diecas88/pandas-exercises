{
 "cells": [
  {
   "cell_type": "markdown",
   "source": "# series - probando series",
   "metadata": {
    "cell_id": "ac268dd4-fdff-4745-b694-840c85680172",
    "tags": [],
    "is_collapsed": false,
    "deepnote_cell_type": "text-cell-h1"
   }
  },
  {
   "cell_type": "code",
   "metadata": {
    "tags": [],
    "cell_id": "a4ffe3cb-fbae-43ed-949f-beed4797a9f9",
    "deepnote_to_be_reexecuted": false,
    "source_hash": "9b82ee11",
    "execution_start": 1643166819056,
    "execution_millis": 45,
    "deepnote_cell_type": "code"
   },
   "source": "import pandas as pd",
   "execution_count": 1,
   "outputs": []
  },
  {
   "cell_type": "code",
   "metadata": {
    "cell_id": "2a2f5afb-6ac1-4042-b297-0b6b0448be88",
    "tags": [],
    "deepnote_to_be_reexecuted": false,
    "source_hash": "b81290e5",
    "execution_start": 1643166819101,
    "execution_millis": 4,
    "deepnote_output_heights": [
     21
    ],
    "deepnote_cell_type": "code"
   },
   "source": "sr = pd.Series([10,9,8,7,6])\nprint(sr.values)\nprint(sr.index)\nprint(sr.shape)",
   "execution_count": 2,
   "outputs": [
    {
     "name": "stdout",
     "text": "[10  9  8  7  6]\nRangeIndex(start=0, stop=5, step=1)\n(5,)\n",
     "output_type": "stream"
    }
   ]
  },
  {
   "cell_type": "code",
   "source": "# llamar un elemento especifico\nsr[2]",
   "metadata": {
    "cell_id": "356b7299-f7cf-4003-b493-17a38732d9d6",
    "tags": [],
    "deepnote_to_be_reexecuted": false,
    "source_hash": "4bc810fb",
    "execution_start": 1643166819102,
    "execution_millis": 3,
    "deepnote_output_heights": [
     21.1875
    ],
    "deepnote_cell_type": "code"
   },
   "outputs": [
    {
     "output_type": "execute_result",
     "execution_count": 3,
     "data": {
      "text/plain": "8"
     },
     "metadata": {}
    }
   ],
   "execution_count": 3
  },
  {
   "cell_type": "code",
   "source": "sr[[0,4,2]]",
   "metadata": {
    "cell_id": "4b852fdf-f73a-4bd2-b73c-a9bdc1c67ac6",
    "tags": [],
    "deepnote_to_be_reexecuted": false,
    "source_hash": "cc660e96",
    "execution_start": 1643166819137,
    "execution_millis": 0,
    "deepnote_output_heights": [
     78.75
    ],
    "deepnote_cell_type": "code"
   },
   "outputs": [
    {
     "output_type": "execute_result",
     "execution_count": 4,
     "data": {
      "text/plain": "0    10\n4     6\n2     8\ndtype: int64"
     },
     "metadata": {}
    }
   ],
   "execution_count": 4
  },
  {
   "cell_type": "code",
   "source": "#agregar un indice a una serie\nsr = pd.Series([10,9,8,7,6],index = ['a','b','c','d','e'])\n#llamar elementos\nsr[['b','e']]",
   "metadata": {
    "cell_id": "730f57e1-16b1-4bdc-9d7a-39080e8d1be1",
    "tags": [],
    "deepnote_to_be_reexecuted": false,
    "source_hash": "34f281d9",
    "execution_start": 1643166819138,
    "execution_millis": 4,
    "deepnote_output_heights": [
     59.5625
    ],
    "deepnote_cell_type": "code"
   },
   "outputs": [
    {
     "output_type": "execute_result",
     "execution_count": 5,
     "data": {
      "text/plain": "b    9\ne    6\ndtype: int64"
     },
     "metadata": {}
    }
   ],
   "execution_count": 5
  },
  {
   "cell_type": "code",
   "source": "sr[:'c']",
   "metadata": {
    "cell_id": "30464a9c-b835-4b6c-af78-30ca6483fcca",
    "tags": [],
    "deepnote_to_be_reexecuted": false,
    "source_hash": "b10031cf",
    "execution_start": 1643166819139,
    "execution_millis": 4,
    "deepnote_output_heights": [
     79
    ],
    "deepnote_cell_type": "code"
   },
   "outputs": [
    {
     "output_type": "execute_result",
     "execution_count": 6,
     "data": {
      "text/plain": "a    10\nb     9\nc     8\ndtype: int64"
     },
     "metadata": {}
    }
   ],
   "execution_count": 6
  },
  {
   "cell_type": "code",
   "source": "#diccionarios \ndictionary = {'CO':100,'MX':200,'CA':190,'AR':900}\nprint(dictionary.keys())\nprint(dictionary['CA'])\n#convertir diccionario en series\npd.Series(dictionary)\n",
   "metadata": {
    "cell_id": "e1594ee3-23f8-474f-b6f2-3113e487682a",
    "tags": [],
    "deepnote_to_be_reexecuted": false,
    "source_hash": "c74898e4",
    "execution_start": 1643166923703,
    "execution_millis": 11,
    "deepnote_output_heights": [
     21,
     98
    ],
    "deepnote_cell_type": "code"
   },
   "outputs": [
    {
     "name": "stdout",
     "text": "dict_keys(['CO', 'MX', 'CA', 'AR'])\n190\n",
     "output_type": "stream"
    },
    {
     "output_type": "execute_result",
     "execution_count": 10,
     "data": {
      "text/plain": "CO    100\nMX    200\nCA    190\nAR    900\ndtype: int64"
     },
     "metadata": {}
    }
   ],
   "execution_count": 10
  },
  {
   "cell_type": "code",
   "source": "sr = pd.Series(dictionary, index= ['CO','MX', 'CA', 'PE'])",
   "metadata": {
    "cell_id": "510d5cbd-0e55-438f-88dd-f75099b0efb0",
    "tags": [],
    "deepnote_to_be_reexecuted": false,
    "source_hash": "33ecb6c7",
    "execution_start": 1643167410948,
    "execution_millis": 1,
    "deepnote_output_heights": [
     117
    ],
    "deepnote_cell_type": "code"
   },
   "outputs": [],
   "execution_count": 12
  },
  {
   "cell_type": "code",
   "source": "import numpy as np\nnp.nan + 10",
   "metadata": {
    "cell_id": "5627727e-a9db-4c27-a47a-fce5ab0fa83c",
    "tags": [],
    "deepnote_to_be_reexecuted": false,
    "source_hash": "1639f0a7",
    "execution_start": 1643167414245,
    "execution_millis": 5,
    "deepnote_output_heights": [
     21
    ],
    "deepnote_cell_type": "code"
   },
   "outputs": [
    {
     "output_type": "execute_result",
     "execution_count": 13,
     "data": {
      "text/plain": "nan"
     },
     "metadata": {}
    }
   ],
   "execution_count": 13
  },
  {
   "cell_type": "code",
   "source": "sr.isnull()",
   "metadata": {
    "cell_id": "443b19bd-505a-4722-baaa-36d1f9bfa195",
    "tags": [],
    "deepnote_to_be_reexecuted": false,
    "source_hash": "9b5b2ce9",
    "execution_start": 1643167417080,
    "execution_millis": 9,
    "deepnote_output_heights": [
     98
    ],
    "deepnote_cell_type": "code"
   },
   "outputs": [
    {
     "output_type": "execute_result",
     "execution_count": 14,
     "data": {
      "text/plain": "CO    False\nMX    False\nCA    False\nPE     True\ndtype: bool"
     },
     "metadata": {}
    }
   ],
   "execution_count": 14
  },
  {
   "cell_type": "code",
   "source": "sr.notnull()",
   "metadata": {
    "cell_id": "097aa5d9-a302-4f45-8b2e-b0140f81e8f6",
    "tags": [],
    "deepnote_to_be_reexecuted": false,
    "source_hash": "171ca05e",
    "execution_start": 1643167943095,
    "execution_millis": 3,
    "deepnote_output_heights": [
     98
    ],
    "deepnote_cell_type": "code"
   },
   "outputs": [
    {
     "output_type": "execute_result",
     "execution_count": 19,
     "data": {
      "text/plain": "CO     True\nMX     True\nCA     True\nPE    False\ndtype: bool"
     },
     "metadata": {}
    }
   ],
   "execution_count": 19
  },
  {
   "cell_type": "code",
   "source": "dict = {'ch':[10,15,24],'ar':[52,44,98],'se':[97,25,69]}\ndict",
   "metadata": {
    "cell_id": "1e004934-6c7c-4c16-9add-94e5e79c68bb",
    "tags": [],
    "deepnote_to_be_reexecuted": false,
    "source_hash": "dc6b2b5b",
    "execution_start": 1643168043845,
    "execution_millis": 5,
    "deepnote_output_heights": [
     21
    ],
    "deepnote_cell_type": "code"
   },
   "outputs": [
    {
     "output_type": "execute_result",
     "execution_count": 21,
     "data": {
      "text/plain": "{'ch': [10, 15, 24], 'ar': [52, 44, 98], 'se': [97, 25, 69]}"
     },
     "metadata": {}
    }
   ],
   "execution_count": 21
  },
  {
   "cell_type": "markdown",
   "source": "### operaciones con dataframes",
   "metadata": {
    "cell_id": "4e44410d-3103-4af1-ad27-81e9a43d958f",
    "tags": [],
    "is_collapsed": false,
    "deepnote_cell_type": "text-cell-h3"
   }
  },
  {
   "cell_type": "code",
   "source": "df = pd.DataFrame(dict)\ndf",
   "metadata": {
    "cell_id": "ec8c64ab-18c5-400d-959b-045fc8e175d3",
    "tags": [],
    "deepnote_to_be_reexecuted": false,
    "source_hash": "4022254",
    "execution_start": 1643168068648,
    "execution_millis": 190,
    "deepnote_cell_type": "code"
   },
   "outputs": [
    {
     "output_type": "execute_result",
     "execution_count": 22,
     "data": {
      "application/vnd.deepnote.dataframe.v3+json": {
       "column_count": 3,
       "row_count": 3,
       "columns": [
        {
         "name": "ch",
         "dtype": "int64",
         "stats": {
          "unique_count": 3,
          "nan_count": 0,
          "min": "10",
          "max": "24",
          "histogram": [
           {
            "bin_start": 10,
            "bin_end": 11.4,
            "count": 1
           },
           {
            "bin_start": 11.4,
            "bin_end": 12.8,
            "count": 0
           },
           {
            "bin_start": 12.8,
            "bin_end": 14.2,
            "count": 0
           },
           {
            "bin_start": 14.2,
            "bin_end": 15.6,
            "count": 1
           },
           {
            "bin_start": 15.6,
            "bin_end": 17,
            "count": 0
           },
           {
            "bin_start": 17,
            "bin_end": 18.4,
            "count": 0
           },
           {
            "bin_start": 18.4,
            "bin_end": 19.799999999999997,
            "count": 0
           },
           {
            "bin_start": 19.799999999999997,
            "bin_end": 21.2,
            "count": 0
           },
           {
            "bin_start": 21.2,
            "bin_end": 22.6,
            "count": 0
           },
           {
            "bin_start": 22.6,
            "bin_end": 24,
            "count": 1
           }
          ]
         }
        },
        {
         "name": "ar",
         "dtype": "int64",
         "stats": {
          "unique_count": 3,
          "nan_count": 0,
          "min": "44",
          "max": "98",
          "histogram": [
           {
            "bin_start": 44,
            "bin_end": 49.4,
            "count": 1
           },
           {
            "bin_start": 49.4,
            "bin_end": 54.8,
            "count": 1
           },
           {
            "bin_start": 54.8,
            "bin_end": 60.2,
            "count": 0
           },
           {
            "bin_start": 60.2,
            "bin_end": 65.6,
            "count": 0
           },
           {
            "bin_start": 65.6,
            "bin_end": 71,
            "count": 0
           },
           {
            "bin_start": 71,
            "bin_end": 76.4,
            "count": 0
           },
           {
            "bin_start": 76.4,
            "bin_end": 81.80000000000001,
            "count": 0
           },
           {
            "bin_start": 81.80000000000001,
            "bin_end": 87.2,
            "count": 0
           },
           {
            "bin_start": 87.2,
            "bin_end": 92.6,
            "count": 0
           },
           {
            "bin_start": 92.6,
            "bin_end": 98,
            "count": 1
           }
          ]
         }
        },
        {
         "name": "se",
         "dtype": "int64",
         "stats": {
          "unique_count": 3,
          "nan_count": 0,
          "min": "25",
          "max": "97",
          "histogram": [
           {
            "bin_start": 25,
            "bin_end": 32.2,
            "count": 1
           },
           {
            "bin_start": 32.2,
            "bin_end": 39.4,
            "count": 0
           },
           {
            "bin_start": 39.4,
            "bin_end": 46.6,
            "count": 0
           },
           {
            "bin_start": 46.6,
            "bin_end": 53.8,
            "count": 0
           },
           {
            "bin_start": 53.8,
            "bin_end": 61,
            "count": 0
           },
           {
            "bin_start": 61,
            "bin_end": 68.2,
            "count": 0
           },
           {
            "bin_start": 68.2,
            "bin_end": 75.4,
            "count": 1
           },
           {
            "bin_start": 75.4,
            "bin_end": 82.6,
            "count": 0
           },
           {
            "bin_start": 82.6,
            "bin_end": 89.8,
            "count": 0
           },
           {
            "bin_start": 89.8,
            "bin_end": 97,
            "count": 1
           }
          ]
         }
        },
        {
         "name": "_deepnote_index_column",
         "dtype": "int64"
        }
       ],
       "rows": [
        {
         "ch": 10,
         "ar": 52,
         "se": 97,
         "_deepnote_index_column": 0
        },
        {
         "ch": 15,
         "ar": 44,
         "se": 25,
         "_deepnote_index_column": 1
        },
        {
         "ch": 24,
         "ar": 98,
         "se": 69,
         "_deepnote_index_column": 2
        }
       ]
      },
      "text/plain": "   ch  ar  se\n0  10  52  97\n1  15  44  25\n2  24  98  69",
      "text/html": "<div>\n<style scoped>\n    .dataframe tbody tr th:only-of-type {\n        vertical-align: middle;\n    }\n\n    .dataframe tbody tr th {\n        vertical-align: top;\n    }\n\n    .dataframe thead th {\n        text-align: right;\n    }\n</style>\n<table border=\"1\" class=\"dataframe\">\n  <thead>\n    <tr style=\"text-align: right;\">\n      <th></th>\n      <th>ch</th>\n      <th>ar</th>\n      <th>se</th>\n    </tr>\n  </thead>\n  <tbody>\n    <tr>\n      <th>0</th>\n      <td>10</td>\n      <td>52</td>\n      <td>97</td>\n    </tr>\n    <tr>\n      <th>1</th>\n      <td>15</td>\n      <td>44</td>\n      <td>25</td>\n    </tr>\n    <tr>\n      <th>2</th>\n      <td>24</td>\n      <td>98</td>\n      <td>69</td>\n    </tr>\n  </tbody>\n</table>\n</div>"
     },
     "metadata": {}
    }
   ],
   "execution_count": 22
  },
  {
   "cell_type": "code",
   "source": "cars = {\n    'brand':['vw','mazda','gmc','kia'],\n    'year':[2020,1999,2014,2013],\n    'country':['DE','JP','US','KO'],\n    'price':[12000,6500,10500,11200]\n}\ncars",
   "metadata": {
    "cell_id": "2dc3f620-06d9-4a39-b81b-b1f5d89edbee",
    "tags": [],
    "deepnote_to_be_reexecuted": false,
    "source_hash": "83046031",
    "execution_start": 1643168285931,
    "execution_millis": 8,
    "deepnote_output_heights": [
     79
    ],
    "deepnote_cell_type": "code"
   },
   "outputs": [
    {
     "output_type": "execute_result",
     "execution_count": 24,
     "data": {
      "text/plain": "{'brand': ['vw', 'mazda', 'gmc', 'kia'],\n 'year': [2020, 1999, 2014, 2013],\n 'country': ['DE', 'JP', 'US', 'KO'],\n 'price': [12000, 6500, 10500, 11200]}"
     },
     "metadata": {}
    }
   ],
   "execution_count": 24
  },
  {
   "cell_type": "code",
   "source": "df = pd.DataFrame(cars, index = ['vw', 'mazda', 'gmc', 'kia'])\nprint(df)\nprint(df.index)\nprint(df.columns)\nprint(df.values)\n#mostrar solo columnas seleccionadas\nprint(df[['year','country']])\n#mostrar solo indices seleccionados y columnas seleccionadas\nprint(df.loc[['mazda','vw'],['year','price']])\n#mostrar indice en posicion 2 y columna 1 \nprint(df.iloc[2,1])",
   "metadata": {
    "cell_id": "66c4953d-0794-4e75-b355-b049795236ae",
    "tags": [],
    "deepnote_to_be_reexecuted": false,
    "source_hash": "89431f34",
    "execution_start": 1643168976203,
    "execution_millis": 293,
    "deepnote_output_heights": [
     78.75
    ],
    "deepnote_cell_type": "code"
   },
   "outputs": [
    {
     "name": "stdout",
     "text": "       brand  year country  price\nvw        vw  2020      DE  12000\nmazda  mazda  1999      JP   6500\ngmc      gmc  2014      US  10500\nkia      kia  2013      KO  11200\nIndex(['vw', 'mazda', 'gmc', 'kia'], dtype='object')\nIndex(['brand', 'year', 'country', 'price'], dtype='object')\n[['vw' 2020 'DE' 12000]\n ['mazda' 1999 'JP' 6500]\n ['gmc' 2014 'US' 10500]\n ['kia' 2013 'KO' 11200]]\n       year country\nvw     2020      DE\nmazda  1999      JP\ngmc    2014      US\nkia    2013      KO\n       year  price\nmazda  1999   6500\nvw     2020  12000\n2014\n",
     "output_type": "stream"
    }
   ],
   "execution_count": 48
  },
  {
   "cell_type": "code",
   "source": "#filtrado condicional\ndf[(df['year']>=2013) & (df['price']>=11000)]\n#con funcion query\ndf.query('year>=2020')",
   "metadata": {
    "cell_id": "96c4f8b9-e8b3-4997-9342-422d43ca77a5",
    "tags": [],
    "deepnote_to_be_reexecuted": false,
    "source_hash": "326a7fe1",
    "execution_start": 1643169173964,
    "execution_millis": 220,
    "deepnote_output_heights": [
     97.9375
    ],
    "deepnote_cell_type": "code"
   },
   "outputs": [
    {
     "output_type": "execute_result",
     "execution_count": 54,
     "data": {
      "application/vnd.deepnote.dataframe.v3+json": {
       "column_count": 4,
       "row_count": 1,
       "columns": [
        {
         "name": "brand",
         "dtype": "object",
         "stats": {
          "unique_count": 1,
          "nan_count": 0,
          "categories": [
           {
            "name": "vw",
            "count": 1
           }
          ]
         }
        },
        {
         "name": "year",
         "dtype": "int64",
         "stats": {
          "unique_count": 1,
          "nan_count": 0,
          "min": "2020",
          "max": "2020",
          "histogram": [
           {
            "bin_start": 2019.5,
            "bin_end": 2019.6,
            "count": 0
           },
           {
            "bin_start": 2019.6,
            "bin_end": 2019.7,
            "count": 0
           },
           {
            "bin_start": 2019.7,
            "bin_end": 2019.8,
            "count": 0
           },
           {
            "bin_start": 2019.8,
            "bin_end": 2019.9,
            "count": 0
           },
           {
            "bin_start": 2019.9,
            "bin_end": 2020,
            "count": 0
           },
           {
            "bin_start": 2020,
            "bin_end": 2020.1,
            "count": 1
           },
           {
            "bin_start": 2020.1,
            "bin_end": 2020.2,
            "count": 0
           },
           {
            "bin_start": 2020.2,
            "bin_end": 2020.3,
            "count": 0
           },
           {
            "bin_start": 2020.3,
            "bin_end": 2020.4,
            "count": 0
           },
           {
            "bin_start": 2020.4,
            "bin_end": 2020.5,
            "count": 0
           }
          ]
         }
        },
        {
         "name": "country",
         "dtype": "object",
         "stats": {
          "unique_count": 1,
          "nan_count": 0,
          "categories": [
           {
            "name": "DE",
            "count": 1
           }
          ]
         }
        },
        {
         "name": "price",
         "dtype": "int64",
         "stats": {
          "unique_count": 1,
          "nan_count": 0,
          "min": "12000",
          "max": "12000",
          "histogram": [
           {
            "bin_start": 11999.5,
            "bin_end": 11999.6,
            "count": 0
           },
           {
            "bin_start": 11999.6,
            "bin_end": 11999.7,
            "count": 0
           },
           {
            "bin_start": 11999.7,
            "bin_end": 11999.8,
            "count": 0
           },
           {
            "bin_start": 11999.8,
            "bin_end": 11999.9,
            "count": 0
           },
           {
            "bin_start": 11999.9,
            "bin_end": 12000,
            "count": 0
           },
           {
            "bin_start": 12000,
            "bin_end": 12000.1,
            "count": 1
           },
           {
            "bin_start": 12000.1,
            "bin_end": 12000.2,
            "count": 0
           },
           {
            "bin_start": 12000.2,
            "bin_end": 12000.3,
            "count": 0
           },
           {
            "bin_start": 12000.3,
            "bin_end": 12000.4,
            "count": 0
           },
           {
            "bin_start": 12000.4,
            "bin_end": 12000.5,
            "count": 0
           }
          ]
         }
        },
        {
         "name": "_deepnote_index_column",
         "dtype": "object"
        }
       ],
       "rows": [
        {
         "brand": "vw",
         "year": 2020,
         "country": "DE",
         "price": 12000,
         "_deepnote_index_column": "vw"
        }
       ]
      },
      "text/plain": "   brand  year country  price\nvw    vw  2020      DE  12000",
      "text/html": "<div>\n<style scoped>\n    .dataframe tbody tr th:only-of-type {\n        vertical-align: middle;\n    }\n\n    .dataframe tbody tr th {\n        vertical-align: top;\n    }\n\n    .dataframe thead th {\n        text-align: right;\n    }\n</style>\n<table border=\"1\" class=\"dataframe\">\n  <thead>\n    <tr style=\"text-align: right;\">\n      <th></th>\n      <th>brand</th>\n      <th>year</th>\n      <th>country</th>\n      <th>price</th>\n    </tr>\n  </thead>\n  <tbody>\n    <tr>\n      <th>vw</th>\n      <td>vw</td>\n      <td>2020</td>\n      <td>DE</td>\n      <td>12000</td>\n    </tr>\n  </tbody>\n</table>\n</div>"
     },
     "metadata": {}
    }
   ],
   "execution_count": 54
  },
  {
   "cell_type": "markdown",
   "source": "<a style='text-decoration:none;line-height:16px;display:flex;color:#5B5B62;padding:10px;justify-content:end;' href='https://deepnote.com?utm_source=created-in-deepnote-cell&projectId=050c424d-4808-417f-bf01-ddcec3324e7b' target=\"_blank\">\n<img alt='Created in deepnote.com' style='display:inline;max-height:16px;margin:0px;margin-right:7.5px;' src='data:image/svg+xml;base64,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' > </img>\nCreated in <span style='font-weight:600;margin-left:4px;'>Deepnote</span></a>",
   "metadata": {
    "tags": [],
    "created_in_deepnote_cell": true,
    "deepnote_cell_type": "markdown"
   }
  }
 ],
 "nbformat": 4,
 "nbformat_minor": 2,
 "metadata": {
  "orig_nbformat": 2,
  "deepnote": {
   "is_reactive": false
  },
  "deepnote_notebook_id": "598b2f59-70c5-430a-ad17-0ff11fecada5",
  "deepnote_execution_queue": []
 }
}